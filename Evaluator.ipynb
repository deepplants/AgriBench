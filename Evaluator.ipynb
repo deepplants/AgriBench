{
 "cells": [
  {
   "cell_type": "code",
   "execution_count": 1,
   "metadata": {},
   "outputs": [
    {
     "name": "stderr",
     "output_type": "stream",
     "text": [
      "/root/miniconda3/lib/python3.10/site-packages/tqdm/auto.py:21: TqdmWarning: IProgress not found. Please update jupyter and ipywidgets. See https://ipywidgets.readthedocs.io/en/stable/user_install.html\n",
      "  from .autonotebook import tqdm as notebook_tqdm\n"
     ]
    },
    {
     "ename": "ModuleNotFoundError",
     "evalue": "No module named 'ollama'",
     "output_type": "error",
     "traceback": [
      "\u001b[0;31m---------------------------------------------------------------------------\u001b[0m",
      "\u001b[0;31mModuleNotFoundError\u001b[0m                       Traceback (most recent call last)",
      "Cell \u001b[0;32mIn[1], line 14\u001b[0m\n\u001b[1;32m     12\u001b[0m \u001b[38;5;28;01mimport\u001b[39;00m \u001b[38;5;21;01mrandom\u001b[39;00m\n\u001b[1;32m     13\u001b[0m \u001b[38;5;28;01mimport\u001b[39;00m \u001b[38;5;21;01mpandas\u001b[39;00m \u001b[38;5;28;01mas\u001b[39;00m \u001b[38;5;21;01mpd\u001b[39;00m\n\u001b[0;32m---> 14\u001b[0m \u001b[38;5;28;01mfrom\u001b[39;00m \u001b[38;5;21;01mollama\u001b[39;00m \u001b[38;5;28;01mimport\u001b[39;00m AsyncClient\n",
      "\u001b[0;31mModuleNotFoundError\u001b[0m: No module named 'ollama'"
     ]
    }
   ],
   "source": [
    "from tqdm import tqdm\n",
    "import os\n",
    "from datasets import load_dataset\n",
    "import json\n",
    "import nltk\n",
    "import re\n",
    "import difflib\n",
    "from copy import deepcopy\n",
    "\n",
    "import json\n",
    "import numpy as np\n",
    "import random\n",
    "import pandas as pd\n",
    "from ollama import AsyncClient"
   ]
  },
  {
   "cell_type": "code",
   "execution_count": 20,
   "metadata": {},
   "outputs": [],
   "source": [
    "client_ollama = AsyncClient(\n",
    "  host='http://192.168.1.5:11434',\n",
    "  headers={'x-some-header': 'some-value'}\n",
    ")\n",
    "\n",
    "async def chat(content,image_path):\n",
    "    message = {'role': 'user', 'content': content, 'images': [image_path]}\n",
    "    response = await client_ollama.chat(model='llama3.2-vision', messages=[message])\n",
    "    return response['message']['content']"
   ]
  },
  {
   "cell_type": "code",
   "execution_count": 31,
   "metadata": {},
   "outputs": [],
   "source": [
    "task = 'EPPO'\n",
    "aids = load_dataset(\"parquet\", data_files={'validation': '/workdir/AGRIVQA/'+task+'/validation-*.parquet',\n",
    "                                               'dev': '/workdir/AGRIVQA/'+task+'/dev-*.parquet',\n",
    "                                               'test': '/workdir/AGRIVQA/'+task+'/test-*.parquet'})"
   ]
  },
  {
   "cell_type": "code",
   "execution_count": 32,
   "metadata": {},
   "outputs": [
    {
     "data": {
      "text/plain": [
       "DatasetDict({\n",
       "    validation: Dataset({\n",
       "        features: ['id', 'question', 'options', 'explanation', 'image_1', 'image_2', 'image_3', 'image_4', 'image_5', 'img_type', 'answer', 'options_difficulty', 'question_type', 'subfield', 'metadata'],\n",
       "        num_rows: 16519\n",
       "    })\n",
       "    dev: Dataset({\n",
       "        features: ['id', 'question', 'options', 'explanation', 'image_1', 'image_2', 'image_3', 'image_4', 'image_5', 'img_type', 'answer', 'options_difficulty', 'question_type', 'subfield', 'metadata'],\n",
       "        num_rows: 2064\n",
       "    })\n",
       "    test: Dataset({\n",
       "        features: ['id', 'question', 'options', 'explanation', 'image_1', 'image_2', 'image_3', 'image_4', 'image_5', 'img_type', 'answer', 'options_difficulty', 'question_type', 'subfield', 'metadata'],\n",
       "        num_rows: 2065\n",
       "    })\n",
       "})"
      ]
     },
     "execution_count": 32,
     "metadata": {},
     "output_type": "execute_result"
    }
   ],
   "source": [
    "aids"
   ]
  },
  {
   "cell_type": "code",
   "execution_count": 35,
   "metadata": {},
   "outputs": [
    {
     "name": "stdout",
     "output_type": "stream",
     "text": [
      "The image shows a Crocosmia flower, which is commonly known as an autumn crocus or montbretia. It is not a maiden hair tree, autumn bugbane, Martinez's spruce, or any other plant species.\n",
      "\n",
      "It is important to note that the correct common name for this plant is \"montbretia\" and not \"autumn crocus\", which is actually a different type of flower. The montbretia is a popular choice for gardens due to its vibrant orange-red flowers and ability to attract pollinators like bees and butterflies.\n",
      "\n",
      "It's also worth mentioning that the scientific name for this plant is Crocosmia x crocosmiiflora, which indicates that it is a hybrid species derived from two different Crocosmia species. This hybridization has resulted in the creation of a unique and attractive flower that is well-suited to various environments.\n"
     ]
    }
   ],
   "source": [
    "aids['test'][0]['image_1'].save('/workdir/images/cache/prova.png', format='png')\n",
    "question = aids['test'][0]['question']\n",
    "options = aids['test'][0]['options']\n",
    "print(await chat(question+' '+options,'/workdir/images/cache/prova.png'))"
   ]
  },
  {
   "cell_type": "code",
   "execution_count": 34,
   "metadata": {},
   "outputs": [
    {
     "data": {
      "text/plain": [
       "{'id': 'test__EPPO_1',\n",
       " 'question': 'What is the common name in English of this plant? <image 1>',\n",
       " 'options': '[\\'maidenhair tree\\', \\'autumn bugbane\\', \"martinez\\'s spruce\", \\'montbretia\\']',\n",
       " 'explanation': None,\n",
       " 'image_1': <PIL.JpegImagePlugin.JpegImageFile image mode=RGB size=1024x682>,\n",
       " 'image_2': None,\n",
       " 'image_3': None,\n",
       " 'image_4': None,\n",
       " 'image_5': None,\n",
       " 'img_type': \"['Picture']\",\n",
       " 'answer': 'D',\n",
       " 'options_difficulty': '1',\n",
       " 'question_type': 'multiple-choice',\n",
       " 'subfield': 'Plantae / common_name',\n",
       " 'metadata': '{\"source\": \"EPPO\", \"author\": \"EPPO\", \"license\": \"\", \"url\": \"https://gd.eppo.int/media/data/taxon/T/TTRCR/pics/1024x0/8275.jpg\", \"language\": \"English\", \"verbose_answer\": \"{verbose_answer}\", \"eppo_code\": \"TTRCR\", \"gbif_key\": \"2747939\", \"kingdom\": \"Plantae\", \"tag\": \"common_name\", \"common_name_language\": \"English\"}'}"
      ]
     },
     "execution_count": 34,
     "metadata": {},
     "output_type": "execute_result"
    }
   ],
   "source": [
    "aids['test'][0]"
   ]
  },
  {
   "cell_type": "code",
   "execution_count": 9,
   "metadata": {},
   "outputs": [
    {
     "name": "stdout",
     "output_type": "stream",
     "text": [
      "<class 'PIL.PngImagePlugin.PngImageFile'>\n",
      "<class 'PIL.PngImagePlugin.PngImageFile'>\n",
      "<class 'PIL.PngImagePlugin.PngImageFile'>\n",
      "<class 'PIL.PngImagePlugin.PngImageFile'>\n",
      "<class 'PIL.PngImagePlugin.PngImageFile'>\n",
      "<class 'PIL.PngImagePlugin.PngImageFile'>\n",
      "<class 'PIL.PngImagePlugin.PngImageFile'>\n",
      "<class 'PIL.PngImagePlugin.PngImageFile'>\n",
      "<class 'PIL.PngImagePlugin.PngImageFile'>\n",
      "<class 'PIL.PngImagePlugin.PngImageFile'>\n"
     ]
    }
   ],
   "source": [
    "for row in aids['test']:\n",
    "    print(type(row['image_1']))\n",
    "    "
   ]
  }
 ],
 "metadata": {
  "kernelspec": {
   "display_name": "base",
   "language": "python",
   "name": "python3"
  },
  "language_info": {
   "codemirror_mode": {
    "name": "ipython",
    "version": 3
   },
   "file_extension": ".py",
   "mimetype": "text/x-python",
   "name": "python",
   "nbconvert_exporter": "python",
   "pygments_lexer": "ipython3",
   "version": "3.10.15"
  }
 },
 "nbformat": 4,
 "nbformat_minor": 2
}
