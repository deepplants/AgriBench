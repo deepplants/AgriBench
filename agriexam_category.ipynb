{
 "cells": [
  {
   "cell_type": "code",
   "execution_count": null,
   "metadata": {},
   "outputs": [
    {
     "name": "stderr",
     "output_type": "stream",
     "text": [
      "/root/miniconda3/lib/python3.12/site-packages/tqdm/auto.py:21: TqdmWarning: IProgress not found. Please update jupyter and ipywidgets. See https://ipywidgets.readthedocs.io/en/stable/user_install.html\n",
      "  from .autonotebook import tqdm as notebook_tqdm\n"
     ]
    }
   ],
   "source": [
    "from tqdm import tqdm\n",
    "import os\n",
    "from datasets import load_dataset\n",
    "import json\n",
    "import nltk\n",
    "import re\n",
    "import difflib\n",
    "from copy import deepcopy\n",
    "\n",
    "import asyncio\n",
    "import math\n",
    "import json\n",
    "import numpy as np\n",
    "import random\n",
    "import pandas as pd\n",
    "from ollama import AsyncClient\n",
    "import json"
   ]
  },
  {
   "cell_type": "code",
   "execution_count": null,
   "metadata": {},
   "outputs": [],
   "source": [
    "def save_to_json(data, filename):\n",
    "    with open(filename, 'w') as f:\n",
    "        json.dump(data, f, indent=4, ensure_ascii=False)"
   ]
  },
  {
   "cell_type": "code",
   "execution_count": 295,
   "metadata": {},
   "outputs": [],
   "source": [
    "from datasets import load_dataset\n",
    "\n",
    "task_name = 'AgriExam'\n",
    "\n",
    "dataset_name = \"parquet\"\n",
    "data_files = {\n",
    "    \"dev\": \"/workdir/important_datasets/AGRIVQA_light/\"+task_name+\"/dev-00000-of-00001.parquet\",\n",
    "    \"test\": \"/workdir/important_datasets/AGRIVQA_light/\"+task_name+\"/test-00000-of-00001.parquet\",\n",
    "    \"validation\": \"/workdir/important_datasets/AGRIVQA_light/\"+task_name+\"/validation-00000-of-00001.parquet\"\n",
    "}\n",
    "split = \"validation\"\n",
    "\n",
    "dataset = load_dataset(dataset_name,data_files=data_files)"
   ]
  },
  {
   "cell_type": "code",
   "execution_count": 296,
   "metadata": {},
   "outputs": [
    {
     "data": {
      "text/plain": [
       "DatasetDict({\n",
       "    dev: Dataset({\n",
       "        features: ['id', 'question', 'options', 'explanation', 'image_1', 'image_2', 'image_3', 'image_4', 'image_5', 'img_type', 'answer', 'topic_difficulty', 'question_type', 'subfield', 'metadata'],\n",
       "        num_rows: 16\n",
       "    })\n",
       "    test: Dataset({\n",
       "        features: ['id', 'question', 'options', 'explanation', 'image_1', 'image_2', 'image_3', 'image_4', 'image_5', 'img_type', 'answer', 'topic_difficulty', 'question_type', 'subfield', 'metadata'],\n",
       "        num_rows: 624\n",
       "    })\n",
       "    validation: Dataset({\n",
       "        features: ['id', 'question', 'options', 'explanation', 'image_1', 'image_2', 'image_3', 'image_4', 'image_5', 'img_type', 'answer', 'topic_difficulty', 'question_type', 'subfield', 'metadata'],\n",
       "        num_rows: 5613\n",
       "    })\n",
       "})"
      ]
     },
     "execution_count": 296,
     "metadata": {},
     "output_type": "execute_result"
    }
   ],
   "source": [
    "dataset"
   ]
  },
  {
   "cell_type": "code",
   "execution_count": 297,
   "metadata": {},
   "outputs": [
    {
     "name": "stdout",
     "output_type": "stream",
     "text": [
      "Dataset({\n",
      "    features: ['id', 'question', 'options', 'explanation', 'image_1', 'image_2', 'image_3', 'image_4', 'image_5', 'img_type', 'answer', 'topic_difficulty', 'question_type', 'subfield', 'metadata'],\n",
      "    num_rows: 6253\n",
      "})\n"
     ]
    }
   ],
   "source": [
    "from datasets import load_dataset, concatenate_datasets\n",
    "\n",
    "# Load dataset with splits\n",
    "\n",
    "# Combine (concatenate) splits into a single dataset\n",
    "combined_dataset = concatenate_datasets([dataset['dev'], dataset['test'], dataset['validation']])\n",
    "\n",
    "# Now combined_dataset contains data from all splits\n",
    "print(combined_dataset)\n"
   ]
  },
  {
   "cell_type": "code",
   "execution_count": 299,
   "metadata": {},
   "outputs": [
    {
     "data": {
      "text/plain": [
       "Dataset({\n",
       "    features: ['id', 'question', 'options', 'explanation', 'image_1', 'image_2', 'image_3', 'image_4', 'image_5', 'img_type', 'answer', 'topic_difficulty', 'question_type', 'subfield', 'metadata'],\n",
       "    num_rows: 6253\n",
       "})"
      ]
     },
     "execution_count": 299,
     "metadata": {},
     "output_type": "execute_result"
    }
   ],
   "source": [
    "dataset=combined_dataset\n",
    "dataset"
   ]
  },
  {
   "cell_type": "code",
   "execution_count": 375,
   "metadata": {},
   "outputs": [],
   "source": [
    "client_ollama = AsyncClient(\n",
    "  host='http://192.168.1.5:11434',\n",
    ")\n",
    "\n",
    "async def chat(content,image_path):\n",
    "    message = {'role': 'user', 'content': content}\n",
    "    if image_path != None:\n",
    "        message.update({'images': [image_path]})\n",
    "    response = await client_ollama.chat(model='llama3.2-vision', messages=[message],options={\"temperature\":0.2})\n",
    "    return response['message']['content']"
   ]
  },
  {
   "cell_type": "code",
   "execution_count": 202,
   "metadata": {},
   "outputs": [
    {
     "name": "stdout",
     "output_type": "stream",
     "text": [
      "[Question]\n",
      "Propagation Method for cashew nut crop?\n",
      "Options: ['Gooty', 'H-budding', 'T-budding', 'Soft wood grafting', 'All of these']\n",
      "[End of Question]\n",
      "Assign one category to the previous question. This question is taken from an agronomy exam, so try to be more specific than 'Agriculture' if it is a subfield. Your answer should start with one line containing only the category name.\n"
     ]
    }
   ],
   "source": [
    "print(get_prompt(dataset[10],prompt))"
   ]
  },
  {
   "cell_type": "code",
   "execution_count": 284,
   "metadata": {},
   "outputs": [],
   "source": [
    "from random import sample\n",
    "ds=sample(list(dataset),2000)"
   ]
  },
  {
   "cell_type": "code",
   "execution_count": 264,
   "metadata": {},
   "outputs": [],
   "source": [
    "# , so try to be more specific than 'Agriculture' if it is a subfield."
   ]
  },
  {
   "cell_type": "code",
   "execution_count": 271,
   "metadata": {},
   "outputs": [],
   "source": [
    "prompt = '''Try to assign one category from the list of categories to the previous question, if the question is not related to any of them create a new category. \n",
    "This question is taken from an agronomy exam.\n",
    "Your answer should start with one line containing only the category name.'''"
   ]
  },
  {
   "cell_type": "code",
   "execution_count": 336,
   "metadata": {},
   "outputs": [],
   "source": [
    "def get_prompt(doc,prompt,categories=None):\n",
    "    question=doc['question']\n",
    "    options=doc['options']\n",
    "    if not categories:\n",
    "        return '[Question]\\n'+question+'\\nOptions: '+options+'\\n[End of Question]\\n'+prompt\n",
    "    return '[Question]\\n'+question+'\\nOptions: '+options+'\\n[End of Question]\\n'+'[Categories]\\n'+categories+'\\n[End of Categories]\\n'+prompt"
   ]
  },
  {
   "cell_type": "code",
   "execution_count": 277,
   "metadata": {},
   "outputs": [],
   "source": [
    "categories = {\n",
    "    'Agricultural Engineering',\n",
    "    'Animal Science',\n",
    "    'General Agriculture',\n",
    "    'Agricultural Genetics',\n",
    "    'Agricultural Health',\n",
    "    'Agricultural History',\n",
    "    'Plant Breeding',\n",
    "    'Soil Science',\n",
    "    'Agricultural Statistics',\n",
    "    'Wordplay and Analogies',\n",
    "    'Economics',\n",
    "    'Geography and History',\n",
    "    'Geology',\n",
    "    'Geometry',\n",
    "    'Health Science',\n",
    "    'Leadership and Management',\n",
    "    'Math Concepts',\n",
    "    'Mathematics',\n",
    "    'Sports Knowledge'\n",
    "}\n"
   ]
  },
  {
   "cell_type": "code",
   "execution_count": 323,
   "metadata": {},
   "outputs": [],
   "source": [
    "categories = {'Agricultural Economics',\n",
    " 'Agricultural Education',\n",
    " 'Agricultural Engineering',\n",
    " 'Agricultural Genetics',\n",
    " 'Agricultural Geography',\n",
    " 'Agricultural Health',\n",
    " 'Agricultural History',\n",
    " 'Agricultural Mathematics',\n",
    " 'Agricultural Science',\n",
    " 'Agricultural Statistics',\n",
    " 'Anatomy',\n",
    " 'Animal Science',\n",
    " 'Biochemistry',\n",
    " 'Economics',\n",
    " 'English Language',\n",
    " 'Environmental Science',\n",
    " 'General Agriculture',\n",
    " 'General Knowledge',\n",
    " 'Geography and History',\n",
    " 'Geology',\n",
    " 'Geometry',\n",
    " 'Health Science',\n",
    " 'Leadership and Management',\n",
    " 'Math Concepts',\n",
    " 'Mathematics',\n",
    " 'Plant Biology',\n",
    " 'Plant Breeding',\n",
    " 'Social Stratification',\n",
    " 'Soil Science',\n",
    " 'Sports Knowledge',\n",
    " 'Wordplay and Analogies'}"
   ]
  },
  {
   "cell_type": "code",
   "execution_count": null,
   "metadata": {},
   "outputs": [
    {
     "name": "stderr",
     "output_type": "stream",
     "text": [
      "  4%|▎         | 230/6253 [00:32<14:16,  7.03it/s]"
     ]
    },
    {
     "name": "stdout",
     "output_type": "stream",
     "text": [
      "Category: Environmental Science | Question: Ozone concentration in the atmosphere is reduced by? | Options: ['CO2 and O2', 'H2S and CH4', 'CFC and Cl2', 'N2 and N2O']\n"
     ]
    },
    {
     "name": "stderr",
     "output_type": "stream",
     "text": [
      "100%|██████████| 6253/6253 [15:17<00:00,  6.82it/s]\n"
     ]
    }
   ],
   "source": [
    "\n",
    "#categories = set()\n",
    "for doc in tqdm(dataset):\n",
    "    if not categories:\n",
    "        string_categories='[]'\n",
    "    else:\n",
    "        string_categories=str(list(categories))\n",
    "    response = await chat(get_prompt(doc,prompt,string_categories),None)\n",
    "    try:\n",
    "        category = response.split('\\n')[0]\n",
    "        if category not in categories:\n",
    "            print(f\"Category: {category} | Question: {doc['question']} | Options: {doc['options']}\")\n",
    "        categories.add(category)\n",
    "    except:\n",
    "        print('Gnappows')"
   ]
  },
  {
   "cell_type": "code",
   "execution_count": 324,
   "metadata": {},
   "outputs": [
    {
     "name": "stderr",
     "output_type": "stream",
     "text": [
      " 41%|████      | 2555/6253 [06:16<09:07,  6.76it/s]"
     ]
    },
    {
     "name": "stdout",
     "output_type": "stream",
     "text": [
      "Category: Computer Security | Question: Which of the following is a threat for electronic payment systems? | Options: ['Computer Virus', 'Computer Worms', 'Trojan Horses', 'All of the above']\n"
     ]
    },
    {
     "name": "stderr",
     "output_type": "stream",
     "text": [
      "100%|██████████| 6253/6253 [15:18<00:00,  6.81it/s]\n"
     ]
    }
   ],
   "source": [
    "from collections import defaultdict\n",
    "categories_dict = defaultdict(list)\n",
    "\n",
    "for doc in tqdm(dataset):\n",
    "    string_categories=str(list(categories))\n",
    "    response = await chat(get_prompt(doc,prompt,string_categories),None)\n",
    "    try:\n",
    "        category = response.split('\\n')[0]\n",
    "        if category not in categories:\n",
    "            print(f\"Category: {category} | Question: {doc['question']} | Options: {doc['options']}\")\n",
    "        else:\n",
    "            categories_dict[category].append(doc)\n",
    "    except:\n",
    "        print('Gnappows')"
   ]
  },
  {
   "cell_type": "code",
   "execution_count": 332,
   "metadata": {},
   "outputs": [
    {
     "name": "stdout",
     "output_type": "stream",
     "text": [
      "General Knowledge 56\n",
      "\n",
      "Japanese style of gardens also known as?\n",
      "FOB in international trade stands for?\n",
      "In Indians context meaning of the term extension’ is transfer of technology while in USA it is?\n",
      "\n",
      "General Agriculture 1240\n",
      "\n",
      "Identify the correct order of the following methods of irrigation as per their water-use efficiency from the maximum to minimum efficiency.?\n",
      "The insect, which attacks potato both in field as well as in storage is?\n",
      "Disc Harrow which type tillage instrument?\n",
      "\n",
      "Animal Science 167\n",
      "\n",
      "A ______ dry matter intake100 kg body weight is recommended for breeding bull?\n",
      "Which Fish has the highest protein content?\n",
      "What is the Average Gestation period of buffalo? / \n",
      "\n",
      "Soil Science 394\n",
      "\n",
      "Which of the following is the CORRECT sequence of soil-water erosion?\n",
      "What is the total number of soil orders?\n",
      "The most important feature of soil taxonomy is that it is based upon?\n",
      "\n",
      "Plant Breeding 967\n",
      "\n",
      "Synthetic seeds are…..?\n",
      "Sundaram is a very high yielding clone of?\n",
      "A variety developed by mixing the seeds of various phenotypically outstanding lines possessing similarities for various characteristics is called?\n",
      "\n",
      "Environmental Science 109\n",
      "\n",
      "The following does not come under natural disasters?\n",
      "What type of radiation is trapped on earth’s surface as a result of greenhouse effect\n",
      "Which is considered as biological Paradise in India?\n",
      "\n",
      "Agricultural Science 914\n",
      "\n",
      "Gerber test does not give an accurate result when the fat content of the milk is less than?\n",
      "Which one calculated quintal in per hectare?\n",
      "Cephaleuros species cause?\n",
      "\n",
      "Agricultural Engineering 55\n",
      "\n",
      "Which of the following is used in the production of Plastic?\n",
      "Machine used for dehusk of pulse?\n",
      "At farms, the self-propelled power unit is?\n",
      "\n",
      "Biochemistry 382\n",
      "\n",
      "Which of the following is NOT a ketone body?\n",
      "Pungency in Onion due to which Compound? (From AgriExam Free Material)\n",
      "Given below are two statements:\n",
      "Statement I: The catalytic efficiency of an enzyme cannot exceed the diffusion-controlled rate of the combination of enzyme and substrate to form Enzyme-Substrate (ES) complex.\n",
      "Statement II: The catalytic efficiency of an enzyme is defined by the ratio, Kcat / Km\n",
      "In light of the above statements, choose the most appropriate answer from the options given below\n",
      "\n",
      "Agricultural Geography 435\n",
      "\n",
      "The agro ecological regions in India are?\n",
      "In India the tallest breed of sheep is?\n",
      "Brinjal is native to?\n",
      "\n",
      "Geology 16\n",
      "\n",
      "Which are the most easily weatherable minerals?\n",
      "Which one is a sedimentary rock?\n",
      "Shale on metamorphosis changes to?\n",
      "\n",
      "Leadership and Management 23\n",
      "\n",
      "According to Tuckman’s theory, the end phase of group development stage is called as …………………..?\n",
      "When there is limited time for discussion, the large group of audience is divided into smaller units for a short period, it is called?\n",
      "Goal directed behaviour is known as?\n",
      "\n",
      "Agricultural Mathematics 61\n",
      "\n",
      "Which term of the series is incorrect?\n",
      "3, 8, 15, 24, 34, 48, 63\n",
      "Consider the planting distance of the Sapota crop is 8 x 8 (meters). Calculate the number of trees per hectare by using the square system?\n",
      "A sum of Rs.1600 gives a simple interest of Rs. 252 in 2 years and 3 months. The rate of Interest per annum is?\n",
      "\n",
      "Agricultural Economics 344\n",
      "\n",
      "The law of variable proportion is generally referred to as?\n",
      "The markets dealing with agricultural commodities at district head quarter are called?\n",
      "who is appointed as the chairperson of the ATMA Governing Board?\n",
      "\n",
      "Plant Biology 633\n",
      "\n",
      "The diatoms do not easily decay like most of the other algae because?\n",
      "Flame of the Forest is botanically known as?\n",
      "Match List I with List II\n",
      "Table:\n",
      "| List I | List II |\n",
      "|--------|---------|\n",
      "| Fusarium oxysporum | I. Microsclerotia |\n",
      "| Macrophomina phaseolina | II. Clamydospores |\n",
      "| Bipolaris sorokiniana | III. Thick-walled conidia |\n",
      "| Ralstonia solanacearum | IV. Naked cells |\n",
      "\n",
      "Chose the correct answer from the options given below:\n",
      "\n",
      "Agricultural Health 45\n",
      "\n",
      "The Ranikhet disease affects?\n",
      "Which is Host of Japanese encephalitis ?\n",
      "Foul smelling diarrhoea containing fat is called as?\n",
      "\n",
      "Agricultural Statistics 66\n",
      "\n",
      "The value of r (correlation coefficient) ranges between?\n",
      "Which set of data has a mean of 15, a range of 22, a median of 14 and a mode of 14 ?\n",
      "Simaltaneous study on two variables is called\n",
      "\n",
      "Social Stratification 21\n",
      "\n",
      "Comprehension:\n",
      "Read the given passage carefully and answer the questions that follow\n",
      "Many years ago, I was the chief guest at a function. This was held in a hostel for poor students that had been built by a philanthropist. Food and shelter were free, but students had to bear other expenses like tuition and clothing.\n",
      "In my younger days. I have come across many families who would look after students who were economically backward but otherwise bright. They used to help them with their fees or clothing and often with their food as well. In those days most colleges were located in larger towns. Many poor students who came to study in these towns used to stay with these families and would be treated as part of the family. The women of the house considered this a good deed and helped the poor students wholeheartedly. Today the situation is different. Even smaller towns have schools and colleges, so this custom has disappeared.\n",
      "While I was sitting on the dais, I remembered the past and congratulated the person who had built the hostel. It was a good deed and of great help to many students. The hostel secretary told me about some of the students in the hostel who had secured ranks but had a problem paying their tuition fees.\n",
      "He said “Madam, this year we have three students from different disciplines who have secured ranks. All of them are from extremely poor families. They have one more year to complete their degree. “What are they studying? One is medicine, the second in engineering and third in commerce” Can I meet them after the function?\n",
      "The function went on as usual. Often, at such functions, too much praise is lavished on the chief guest. Sometimes, they even make exaggerated and false claims about the chief guest.I feel this unnecessary praising is the highest form of corruption, where people are easily fooled, and it encourages those who are praised to develop an inflated opinion of themselves. That’s why in the twelfth century, in Karnataka the great revolutionary leader Basaveshwara warned in his teaching that praise is like a golden gallows. After the function,I met the three poor bright boys whom the secretary had told me about. They were a little puzzled, shy and nervous. All of them had the same story. Father in a small job unable to make ends meet, large families back in the village, no land or any other assets. Only sheer determination to excel in studies had brought them here against all odds.\n",
      "SubQuestion No : 84\n",
      "Which of the following was NOT a common factors among the students?\n",
      "…….. is the Primary Institution of Society.?\n",
      "These wet customary ways of behaving in society in which the society exerts some force for conformity?\n",
      "\n",
      "Anatomy 54\n",
      "\n",
      "Starting from interior to exterior, arrange the following in correct order?\n",
      "Choose the correct answer from the options given below:\n",
      "Periplasmic space\n",
      "Nucleus\n",
      "Plasma membrane\n",
      "Cell wall\n",
      "Endoplasmic reticulum\n",
      "\n",
      "The innermost layer of the human gut wall is?\n",
      "Body cavity of Hydra is called?\n",
      "\n",
      "Agricultural History 62\n",
      "\n",
      "Plant Quarantine regulatory measures are operative through the “Destructive insects & pests Act, was introduced in India in\n",
      "The credit for success of KVK goes to? (Online Test App)\n",
      "Codex Alimentarius Commission came in?\n",
      "\n",
      "Geography and History 48\n",
      "\n",
      "Where is bhim Rao ambedkar sport stadium is located?\n",
      "Who founded the Sikh Khalsa?\n",
      "Which of the following pairs of Kingdoms and their capital are incorrectly matched ?\n",
      "\n",
      "Agricultural Genetics 47\n",
      "\n",
      "Nullisomy is represented by?\n",
      "Genetic assortative mating is more commonly called as?\n",
      "Excision and insertion of a gene is called?\n",
      "\n",
      "Agricultural Education 57\n",
      "\n",
      "Which of the following is not a method of group communication?\n",
      "The programme related with training of rural youths is?\n",
      "Which one is not the group teaching method ?\n",
      "\n",
      "Economics 16\n",
      "\n",
      "Gresham’s law states that?\n",
      "Keynes’ is associated with?\n",
      "The central banking functions in India are performed by the?\n",
      "\n",
      "Mathematics 4\n",
      "\n",
      "Find out the wrong number in the sequence\n",
      "25, 36, 49, 81, 121, 169, 225\n",
      "A matrix is called square if?\n",
      "In every hour both the hands of the clock coincide, so the angle between them is …………degrees.?\n",
      "\n",
      "English Language 23\n",
      "\n",
      "Which sentence is grammatically incorrect?\n",
      "(A) One must complete one’s task on time.\n",
      "(B) One must complete his task on time.\n",
      "(C) One must complete her task on time.\n",
      "\n",
      "Which of the following would replace the underlined text to improve the sentence?\n",
      "Anusha has very good habits. Every night before bedtime, she reads a book singing.a song and says a prayer.\n",
      "Choose the sentence that is grammatically correct.?\n",
      "\n",
      "Sports Knowledge 4\n",
      "\n",
      "Find the odd one out?\n",
      "Who is the cricketer which is highest six hitted in one ODI innings\n",
      "Who is the Indian boxer win the silver medal?\n",
      "\n",
      "Health Science 3\n",
      "\n",
      "World Health Organisation (WHO) announced the eradication of smallpox as a disease in which year?\n",
      "In the context of COVID -19, flattening the curve would mean?\n",
      "Which of the following are the Health Schemes implemented by the Dr. YSR Aarogyasri Health Care Trust?\n",
      " 1. Dr. YSR Aarogyasri for below the poverty line families\n",
      " 2. 104 Seva Kendram\n",
      " 3. Ayushman Bharat\n",
      "\n",
      "\n",
      "Wordplay and Analogies 6\n",
      "\n",
      "Friend is related to friendly in the same way that Opponent is related to ……………………..?\n",
      "In a certain code, COMPUTER is written as RFUVQNPC. How is MEDICINE written in the same code?\n",
      "Mouse is related to Cat in the same way as Fly is related to …………?\n",
      "\n"
     ]
    }
   ],
   "source": [
    "for key in categories_dict:\n",
    "    print(key,len(categories_dict[key]))\n",
    "    print()\n",
    "    for i in range(3):\n",
    "        print(categories_dict[key][i]['question'])\n",
    "    print()"
   ]
  },
  {
   "cell_type": "code",
   "execution_count": 373,
   "metadata": {},
   "outputs": [],
   "source": [
    "prompt_agronomy = '''Evaluate the exam question provided and determine if it pertains to the field of agronomy. Please begin your response with a single word: 'Yes' if the question pertains to or is relevant in the context of agronomy, or 'No' if it is not.'''"
   ]
  },
  {
   "cell_type": "code",
   "execution_count": null,
   "metadata": {},
   "outputs": [],
   "source": [
    "dataset_light = list(dataset)[:200]"
   ]
  },
  {
   "cell_type": "code",
   "execution_count": 374,
   "metadata": {},
   "outputs": [
    {
     "name": "stderr",
     "output_type": "stream",
     "text": [
      "100%|██████████| 6253/6253 [32:00<00:00,  3.26it/s] \n"
     ]
    }
   ],
   "source": [
    "agronomy_dict = {'Yes': [], 'No': []}\n",
    "\n",
    "for doc in tqdm(dataset):\n",
    "    response = await chat(get_prompt(doc, prompt_agronomy),None)\n",
    "    if response.lower().startswith('yes'):\n",
    "        agronomy_dict['Yes'].append(doc)\n",
    "    elif response.lower().startswith('no'):\n",
    "        agronomy_dict['No'].append(doc)        \n",
    "    else:\n",
    "        print(f\"Question: {doc['question']} | Options: {doc['options']}\")"
   ]
  },
  {
   "cell_type": "code",
   "execution_count": 377,
   "metadata": {},
   "outputs": [
    {
     "name": "stdout",
     "output_type": "stream",
     "text": [
      "1670\n"
     ]
    }
   ],
   "source": [
    "print(len(agronomy_dict['No']))"
   ]
  },
  {
   "cell_type": "code",
   "execution_count": 384,
   "metadata": {},
   "outputs": [
    {
     "name": "stdout",
     "output_type": "stream",
     "text": [
      "Question: Which one of the following compounds forms the backbone of fats and oils? | Options: ['Glycerol', 'Glucose', 'Palmitiacid', 'Amino alcohol']\n",
      "Question: National Botanical Research Institute is located at? | Options: ['New Delhi', 'Lucknow', 'Vadodara', 'Chennai']\n",
      "Question: Blood group system was discovered by? | Options: ['Camillo Golgi', 'Ernst Haeckel', 'Thomas Cooley', 'Karl Landsteiner']\n",
      "Question: “The first task of this Assembly is to free India through a new Constitution, to feed the starving people and to cloth the naked masses and to give every Indian the fullest opportunity to develop himself according to his capacity.” This quotation was given by? | Options: ['Pandit Jawaharlal Nehru', 'Dr. B. R. Ambedkar', 'Dr. S. Radha Krishnan', 'Dr. Rajendra Prasad']\n",
      "Question: Nucleic acids are? | Options: ['Micro molecular compounds', 'Macro molecular compounds', 'Micro and macro molecular compounds', 'Non-molecular compounds']\n",
      "Question: Watershed is a? | Options: ['Hydrological unit', 'Geographical unit', 'Geological unit', 'Geo hydrological unit']\n",
      "Question: DNA is a polymer of? | Options: ['Amino acids', 'Nucleosides', 'Nucleotides', 'None of these']\n",
      "Question: Triple action nozzle provides one of the following spray pattern-? | Options: ['Hollow cone + Jet', 'Hollow cone + Jet + Flat fan', 'Hollow cone + Solid cone + jet', 'Hollow cone + Solid cone + Flat fan']\n",
      "Question: Excision and insertion of a gene is called? | Options: ['Gene Therapy', 'Cytogenetics', 'Biotechnology', 'Genetic Engineering']\n",
      "Question: A sum of money at simple interest doubles in 7 years. It will become four times in? | Options: ['18 years', '21 years', '38 years', '42 years']\n",
      "Question: The concept of “Village Guide” was given by? | Options: ['S.K. Dey', 'Albert Mayer', 'Spencer Hatch', 'F.L. Brayne']\n",
      "Question: In photosystem-1 (PS-1) the pigment molecules absorb maximum light at? | Options: ['660 nm', '680 nm', '700 nm', '720 nm']\n",
      "Question: Which Fish has the highest protein content? | Options: ['Goldfish', 'Mollies', 'Guppies', 'Neon Tetras', 'Tuna (bluefin and yellowfin)']\n",
      "Question: Stratification is the most common feature of? | Options: ['Igneous rocks', 'Sedimentary rocks', 'Metamorphic rocks', 'Plutonic rocks']\n",
      "Question: In a head-to-head system of housing, animals are tied in such a way that they stand facing…..? | Options: ['(A) each other', '(B) North', '(C) East', '(D) tail-to-tail']\n",
      "Question: Find the least number which when divided by 36, 48 and 64 leaves the remainders 25, 37 and 53 respectively.? | Options: ['567', '565', '465', '566']\n",
      "Question: To show relative worth of a new practice over an old one, the extension method best suited is? | Options: ['method demonstration', 'campaign', 'group discussion', 'result demonstration']\n",
      "Question: The division of nucleus is known as? | Options: ['Cytokinesis', 'Karyokinesis', 'Anaphase', 'Metaphase']\n",
      "Question: Longest meiotic phase is? | Options: ['Metaphase', 'Anaphase', 'Telophase', 'Prophase']\n",
      "Question: Guava fruit is botanically known as? | Options: ['drupe', 'hesperidium', 'berry', 'pome']\n",
      "Question: Genetic assortative mating is more commonly called as? | Options: ['Polyers', 'Panmixes', 'Inbreeding', 'Outeronning']\n",
      "Question: Cell theory (1838) was proposed by? | Options: ['Lamarck', 'August Weismann', 'Schleiden and Schwann', 'Maupertuis']\n",
      "Question: Nature of demand curve in case of perfectly elastic demand is? | Options: ['Flatter', 'Steeper', 'Vertical straight line', 'Horizontal straight line']\n",
      "Question: Archaeopteryx is the connecting link between? | Options: ['Amphibia and Reptilia', 'Reptilia and Aves', 'Reptilia and Mammalia', 'Aves and Mammalia']\n",
      "Question: Which of the following organs are involved in excretion? | Options: ['integument', 'malpighian tubules', 'wall of the alimentary canal', 'all of the above']\n",
      "Question: Emissivity of black body is? | Options: ['1.0.50', '2.0.25', '1.00', '4 . 0.75']\n",
      "Question: who is the first deputy Governor of Jammu Kashmir? | Options: ['G. C. Murmu', 'Lalji Tandon', 'Anandiben Patel', 'None of these']\n",
      "Question: The greenish color of chhena whey is due to the presence of? | Options: ['carotene', 'riboltavin', 'chlorophyll.', 'Lycopene']\n",
      "Question: What is the Purpose of Instrument Tintometer? | Options: ['Measure the temperature in the water', 'Measure the color in the water', 'Measure the Odour in the water', 'Measure the Turbidity in Water']\n",
      "Question: The production indifference curve is also known as? | Options: ['Isoquant', 'Budget line', 'Expansion path', 'Engel’s curve']\n",
      "Question: The present ratio of the ages of A and B is 4?5. 18 years ago, this ratio was 11?16. Find sum total of their present ages. | Options: ['90 years', '105 years', '110 years', '80 years']\n",
      "Question: The optimum number of flash cards is: | Options: ['16-18', '10-12', '12-14', '14-16']\n",
      "Question: The alimentary canal of insect is derived from? | Options: ['ectoderm', 'mesoderm', 'ectoderm and mesoderm', 'ectoderm and endoderm']\n",
      "Question: Clamp connection is found in the member of fungi belonging to class? | Options: ['Oomycetes', 'Ascomycetes', 'Basidiomycetes', 'Zygomycetes']\n",
      "Question: Proponent of “Marthandam” Rural Development Programme is? | Options: ['Spencer Hatch', 'Daniel Hamiltion', 'A.T. Mosher', 'M.K. Gandhi']\n",
      "Question: The chemical nature of eedysone is? | Options: ['Amine', 'Steroid', 'Terpetic', 'Protein']\n",
      "Question: Who was the founder of Madras? | Options: ['S Master', 'Robert Clive', 'Gabriel Boughton', 'Francis Day']\n",
      "Question: The law that determines the best uses of limited resources among alternative uses is known as? | Options: ['Law of variable proportion', 'Law of equi-marginal return', 'Law of demand', 'Law of supply']\n",
      "Question: As per Seymour Benzer, a unit of mutation (muton) and unit of recombination (recon), respectively represent:\n",
      "Choose the correct answer from the options given below:\n",
      "Single gene and any pair of genes\n",
      "Single nucleotide and any adjacent pairs of nucleotide\n",
      "Single gene and any homologous pair of chromosomes\n",
      "Single nucleotide and any single gene\n",
      "Deletion mutants and any cross-over gene\n",
      " | Options: ['A only', 'B only', 'A, B, C only', 'C, D, E only']\n",
      "Question: various combination of two commodities yielding same level of satisfaction? | Options: ['various combination of two commodities yielding same level of satisfaction', 'various combination of two commodities yielding same level of cost', 'various combination of two commodities yielding decreasing satisfaction', 'various combination of two commodities yielding decreasing cost']\n"
     ]
    }
   ],
   "source": [
    "no = sample(agronomy_dict['No'], 40)\n",
    "for doc in no:\n",
    "    print(f\"Question: {doc['question']} | Options: {doc['options']}\")"
   ]
  },
  {
   "cell_type": "code",
   "execution_count": 383,
   "metadata": {},
   "outputs": [],
   "source": [
    "prompt_categories = '''Try to assign to the previous question one category from the list of categories, if the question is not related to any of them create a new category. \n",
    "This question is taken from an agronomy exam.\n",
    "Your answer should start with one line containing only the category name.'''"
   ]
  },
  {
   "cell_type": "code",
   "execution_count": 386,
   "metadata": {},
   "outputs": [],
   "source": [
    "categories = {'Agricultural Economics',\n",
    " 'Agricultural Education',\n",
    " 'Agricultural Engineering',\n",
    " 'Agricultural Genetics',\n",
    " 'Agricultural Geography',\n",
    " 'Agricultural Health',\n",
    " 'Agricultural History',\n",
    " 'Agricultural Mathematics',\n",
    " 'Agricultural Science',\n",
    " 'Agricultural Statistics',\n",
    " 'Anatomy',\n",
    " 'Animal Science',\n",
    " 'Biochemistry',\n",
    " 'Economics',\n",
    " 'English Language',\n",
    " 'Environmental Science',\n",
    " 'General Agriculture',\n",
    " 'General Knowledge',\n",
    " 'Geography and History',\n",
    " 'Geology',\n",
    " 'Geometry',\n",
    " 'Health Science',\n",
    " 'Leadership and Management',\n",
    " 'Math Concepts',\n",
    " 'Mathematics',\n",
    " 'Plant Biology',\n",
    " 'Plant Breeding',\n",
    " 'Social Stratification',\n",
    " 'Soil Science',\n",
    " 'Sports Knowledge',\n",
    " 'Wordplay and Analogies'}"
   ]
  },
  {
   "cell_type": "code",
   "execution_count": 398,
   "metadata": {},
   "outputs": [],
   "source": [
    "categories = {\n",
    "    'Agricultural Economics',\n",
    "    'Agricultural Education',\n",
    "    'Agricultural Engineering',\n",
    "    'Genetics and Breeding',\n",
    "    'Sustainable Farming',\n",
    "    'Agricultural Health',\n",
    "    'Agricultural History',\n",
    "    'Agricultural Geography',\n",
    "    'Botany',\n",
    "    'Data Science in Agriculture',\n",
    "    'Climate and Agriculture',\n",
    "    'Animal Science',\n",
    "    'Biochemistry in Agriculture',\n",
    "    'Environmental Economics',\n",
    "    'Farm Management',\n",
    "    'Food Science',\n",
    "    'Irrigation and Water Management',\n",
    "    'Plant Protection',\n",
    "    'Precision Agriculture',\n",
    "    'Rural Sociology',\n",
    "    'Soil Science',\n",
    "    'Crop Production',\n",
    "    'Weed and Pest Management'\n",
    "}"
   ]
  },
  {
   "cell_type": "code",
   "execution_count": 396,
   "metadata": {},
   "outputs": [
    {
     "name": "stderr",
     "output_type": "stream",
     "text": [
      "  5%|▌         | 245/4583 [00:34<10:41,  6.76it/s]"
     ]
    },
    {
     "name": "stdout",
     "output_type": "stream",
     "text": [
      "Category: Food Science in Agriculture | Question: The Indian name for clarified butterfat is…? | Options: ['(A) cream', '(B) buttermilk', '(C) dahi', '(D) ghee']\n"
     ]
    },
    {
     "name": "stderr",
     "output_type": "stream",
     "text": [
      "  6%|▌         | 264/4583 [00:36<09:52,  7.29it/s]"
     ]
    },
    {
     "name": "stdout",
     "output_type": "stream",
     "text": [
      "Category: Agriculture | Question: Golden revolution is related to? | Options: ['Dairy', 'Pulses', 'Agriculture', 'Horticulture']\n"
     ]
    },
    {
     "name": "stderr",
     "output_type": "stream",
     "text": [
      " 18%|█▊        | 839/4583 [01:55<08:18,  7.52it/s]"
     ]
    },
    {
     "name": "stdout",
     "output_type": "stream",
     "text": [
      "Category: Plant Anatomy | Question: Complex tissue is? | Options: ['Parenchyma', 'Collenchyma', 'Sclerenchyma', 'Phloem']\n"
     ]
    },
    {
     "name": "stderr",
     "output_type": "stream",
     "text": [
      " 28%|██▊       | 1304/4583 [03:00<06:52,  7.96it/s]"
     ]
    },
    {
     "name": "stdout",
     "output_type": "stream",
     "text": [
      "Category: Plant Physiology | Question: Name the condition in which protoplast of the plant cell shrinks away.? | Options: ['Turgid', 'Plasmolysis', 'Flaccid', 'Rigid']\n"
     ]
    },
    {
     "name": "stderr",
     "output_type": "stream",
     "text": [
      " 30%|██▉       | 1356/4583 [03:08<07:24,  7.26it/s]"
     ]
    },
    {
     "name": "stdout",
     "output_type": "stream",
     "text": [
      "Category: Plant Physiology | Question: Match List I with List II\n",
      "Table:\n",
      "| List I | List II |\n",
      "|--------|---------|\n",
      "| A.Phototropism | I.Bending towards soil |\n",
      "| B.Geotropism | II.Response to day length |\n",
      "| C.Thigmotropism | III.Bending towards light |\n",
      "| D.Photoperiodism | IV.Touch me not |\n",
      "\n",
      "Choose the correct answer from the options given below | Options: ['A-I, B-II, C-IV, D-III', 'A-II, B-III, C-I, D-IV', 'A-IV, B-II, G-III, D-I', 'A-III, B-I, C-IV, D-II']\n"
     ]
    },
    {
     "name": "stderr",
     "output_type": "stream",
     "text": [
      " 43%|████▎     | 1953/4583 [04:31<05:50,  7.51it/s]"
     ]
    },
    {
     "name": "stdout",
     "output_type": "stream",
     "text": [
      "Category: Community Ecology | Question: Biotic components, producers, consumers and decomposers are structural components of? | Options: ['Habitat', 'Community Ecology', 'Population Ecology', 'Ecosystem']\n"
     ]
    },
    {
     "name": "stderr",
     "output_type": "stream",
     "text": [
      " 47%|████▋     | 2134/4583 [04:56<05:52,  6.95it/s]"
     ]
    },
    {
     "name": "stdout",
     "output_type": "stream",
     "text": [
      "Category: Agricultural Geography | Question: Indian Grassland and Fodder Research Institute is located at? | Options: ['Barapani', 'Jhansi', 'Ranchi', 'Patna']\n"
     ]
    },
    {
     "name": "stderr",
     "output_type": "stream",
     "text": [
      " 50%|████▉     | 2276/4583 [05:16<04:56,  7.77it/s]"
     ]
    },
    {
     "name": "stdout",
     "output_type": "stream",
     "text": [
      "Category: Botany | Question: Inflorescence of fig is known as? | Options: ['Hypanthodium', 'Panicle', 'Catkin', 'Balusta']\n"
     ]
    },
    {
     "name": "stderr",
     "output_type": "stream",
     "text": [
      " 53%|█████▎    | 2422/4583 [05:36<05:00,  7.19it/s]"
     ]
    },
    {
     "name": "stdout",
     "output_type": "stream",
     "text": [
      "Category: Plant Physiology | Question: Which plant hormone causes plant tropism? | Options: ['Cytokinin', 'Auxin', 'Ethylene', 'GA3']\n"
     ]
    },
    {
     "name": "stderr",
     "output_type": "stream",
     "text": [
      " 62%|██████▏   | 2819/4583 [06:31<03:49,  7.69it/s]"
     ]
    },
    {
     "name": "stdout",
     "output_type": "stream",
     "text": [
      "Category: Plant Anatomy | Question: Conjoint, collateral and open vascular bundles are found in a? | Options: ['Dicot stem', 'Monocot stem', 'Dicot root', 'Momocot root']\n"
     ]
    },
    {
     "name": "stderr",
     "output_type": "stream",
     "text": [
      " 64%|██████▍   | 2934/4583 [06:47<03:43,  7.39it/s]"
     ]
    },
    {
     "name": "stdout",
     "output_type": "stream",
     "text": [
      "Category: Crop Ecology | Question: Crop Ecology means.? | Options: ['(A) Relationship of crop plants to their cropping system', '(B) Relationship of crop plants to their distribution', '(C) Relationship of crop plants to economic factors', '(D) Relationship of crop plants to their environment']\n"
     ]
    },
    {
     "name": "stderr",
     "output_type": "stream",
     "text": [
      " 69%|██████▉   | 3178/4583 [07:21<03:02,  7.69it/s]"
     ]
    },
    {
     "name": "stdout",
     "output_type": "stream",
     "text": [
      "Category: Plant Physiology | Question: An aquatic plant with floating leaf have? | Options: ['Stomata', 'Stomata on petiole only', 'Stomata on upper surface', 'Stomata on lower surface']\n"
     ]
    },
    {
     "name": "stderr",
     "output_type": "stream",
     "text": [
      " 71%|███████   | 3256/4583 [07:32<03:10,  6.96it/s]"
     ]
    },
    {
     "name": "stdout",
     "output_type": "stream",
     "text": [
      "Category: Plant Biology | Question: In plant cells non-pigmented plastids are called? | Options: ['Chloroplast', 'Leucoplast', 'Amyloplast', 'Chromoplast']\n"
     ]
    },
    {
     "name": "stderr",
     "output_type": "stream",
     "text": [
      " 72%|███████▏  | 3288/4583 [07:36<02:50,  7.58it/s]"
     ]
    },
    {
     "name": "stdout",
     "output_type": "stream",
     "text": [
      "Category: Plant Anatomy | Question: The largest plant cells are? | Options: ['Xylem vessel cell', 'Parenchyma cells', 'Sieve tube cells', 'Sclerenchyma fibers']\n"
     ]
    },
    {
     "name": "stderr",
     "output_type": "stream",
     "text": [
      " 73%|███████▎  | 3364/4583 [07:47<02:42,  7.49it/s]"
     ]
    },
    {
     "name": "stdout",
     "output_type": "stream",
     "text": [
      "Category: Plant Physiology | Question: The cell to cell continuity is maintained by? | Options: ['Middle lamella', 'Thickening of lignin', 'Plasmodesmata', 'Cell membrane']\n"
     ]
    },
    {
     "name": "stderr",
     "output_type": "stream",
     "text": [
      " 78%|███████▊  | 3564/4583 [08:14<02:17,  7.43it/s]"
     ]
    },
    {
     "name": "stdout",
     "output_type": "stream",
     "text": [
      "Category: Plant Physiology | Question: Which of the following is the Volatile Plant Hormone? | Options: ['(A) Auxin', '(B) Ethylene', '(C) Cytokinins', '(D) Abscisic acid']\n"
     ]
    },
    {
     "name": "stderr",
     "output_type": "stream",
     "text": [
      " 80%|███████▉  | 3648/4583 [08:26<02:13,  7.01it/s]"
     ]
    },
    {
     "name": "stdout",
     "output_type": "stream",
     "text": [
      "Category: Plant Anatomy | Question: The hypodermis in moncot stem is? | Options: ['Parenchymatous', 'Chlorenchymatous', 'Collenchymatous', 'Sclerenchymatous']\n"
     ]
    },
    {
     "name": "stderr",
     "output_type": "stream",
     "text": [
      " 91%|█████████ | 4166/4583 [09:38<00:59,  7.06it/s]"
     ]
    },
    {
     "name": "stdout",
     "output_type": "stream",
     "text": [
      "Category: Plant Physiology | Question: Study of the plant processes is called? | Options: ['Biotechnology', 'Plant physiology', 'Plant molecular biology', 'Ecology']\n"
     ]
    },
    {
     "name": "stderr",
     "output_type": "stream",
     "text": [
      " 94%|█████████▍| 4324/4583 [10:01<00:35,  7.31it/s]"
     ]
    },
    {
     "name": "stdout",
     "output_type": "stream",
     "text": [
      "Category: Plant Anatomy | Question: The cork in dicotyledonous plants is formed by? | Options: ['Phellogen', 'Phelloderm', 'Phellum', 'Cambium']\n"
     ]
    },
    {
     "name": "stderr",
     "output_type": "stream",
     "text": [
      "100%|██████████| 4583/4583 [10:36<00:00,  7.20it/s]\n"
     ]
    }
   ],
   "source": [
    "from collections import defaultdict\n",
    "\n",
    "#categories = set()\n",
    "categories_dict = defaultdict(list)\n",
    "\n",
    "for doc in tqdm(agronomy_dict['Yes']):\n",
    "    if not categories:\n",
    "        string_categories='[]'\n",
    "    else:\n",
    "        string_categories=str(list(categories))\n",
    "    response = await chat(get_prompt(doc,prompt_categories,string_categories),None)\n",
    "    try:\n",
    "        category = response.split('\\n')[0]\n",
    "        if category not in categories:\n",
    "            print(f\"Category: {category} | Question: {doc['question']} | Options: {doc['options']}\")\n",
    "        #categories.add(category)\n",
    "        categories_dict[category].append(doc)\n",
    "    except:\n",
    "        print('Gnappows')"
   ]
  },
  {
   "cell_type": "code",
   "execution_count": 407,
   "metadata": {},
   "outputs": [
    {
     "name": "stdout",
     "output_type": "stream",
     "text": [
      "Irrigation and Water Management 152\n",
      "Animal Science 167\n",
      "Soil Science 633\n",
      "Plant Protection 503\n",
      "Genetics and Breeding 927\n",
      "Agricultural Engineering 81\n",
      "Geography in Agriculture 43\n",
      "Climate and Agriculture 56\n",
      "Crop Production 1296\n",
      "Agricultural Economics 170\n",
      "Agricultural Health 5\n",
      "Data Science in Agriculture 19\n",
      "Biochemistry in Agriculture 152\n",
      "Agricultural History 81\n",
      "Environmental Economics 7\n",
      "Precision Agriculture 19\n",
      "Weed and Pest Management 111\n",
      "Food Safety 14\n",
      "Agricultural Education 45\n",
      "Farm Management 54\n",
      "Sustainable Farming 25\n",
      "Food Science in Agriculture 1\n",
      "Agriculture 1\n",
      "Plant Anatomy 5\n",
      "Plant Physiology 7\n",
      "Community Ecology 1\n",
      "Agricultural Geography 1\n",
      "Rural Sociology 4\n",
      "Botany 1\n",
      "Crop Ecology 1\n",
      "Plant Biology 1\n"
     ]
    }
   ],
   "source": [
    "for key in categories_dict:\n",
    "        \n",
    "        print(key, len(categories_dict[key]))"
   ]
  },
  {
   "cell_type": "code",
   "execution_count": null,
   "metadata": {},
   "outputs": [],
   "source": []
  },
  {
   "cell_type": "code",
   "execution_count": 406,
   "metadata": {},
   "outputs": [
    {
     "name": "stdout",
     "output_type": "stream",
     "text": [
      "The value of r (correlation coefficient) ranges between?\n",
      "Which test is used to test the significance of the difference between two means?\n",
      "Which of the following is ideal measure of disperson?\n",
      "The correlation coefficient is used to determine?\n",
      "Coefficient of variation is expressed as percentage of?\n",
      "Analysis of variance is a statistical method of comparing the of several populations?\n",
      "What will be the error d.f. for a R.B.D. field experiment with 8 treatments and 3 replications?\n",
      "Comprehension:\n",
      "The table given here shows the production of five types of tractors by a company in the year 2012 to 2017. Study the table and answer the questions that follow\n",
      "Table: Production of Tractors by a Company\n",
      "Table:\n",
      "| Company /Year | 2012 | 2013 | 2014 | 2015 | 2016 | 2017 | Total |\n",
      "|---------------|------|------|------|------|------|------|-------|\n",
      "| A | 8 | 20 | 16 | 17 | 21 | 6 | 88 |\n",
      "| B | 16 | 10 | 14 | 12 | 12 | 14 | 78 |\n",
      "| C | 21 | 17 | 16 | 15 | 13 | 8 | 90 |\n",
      "| D | 4 | 6 | 10 | 16 | 20 | 31 | 87 |\n",
      "| E | 25 | 18 | 19 | 30 | 14 | 27 | 133 |\n",
      "| Total | 74 | 71 | 75 | 90 | 80 | 86 | 476 |\n",
      "\n",
      "SubQuestion No: 70\n",
      "In which year the production of tractors of all types taken together was approximately equal to the average of the total production during the period?\n",
      "Arrange the sequence of steps involved in the procedure for construction of ANOVA in Latin Square Design\n",
      "Choose the correct answer from the options given below\n",
      "A. Arrange the raw data according to their row and column designation with corresponding treatments specified for each observation\n",
      "B. Outline analysis of variance table\n",
      "C. Compute F value\n",
      "D. Compute DF for each source of variation, CF and the various sum of squares and MSS\n",
      "E. Compute CV\n",
      "\n",
      "A statistical test to determine whether two population means are different when the variances are known and the sample size is large is known as?\n",
      "For the analysis of variance of data from plot sampling in a CRD with ‘t’ treatments, ‘r’ replications and ‘s’ sampling units per plot, sampling error will be?\n",
      "Randomized complete block design follow.?\n",
      "The error degree of freedom for 7 treatment laid-out in a Completely Randomized Design with 4 repetitions is?\n",
      "Comprehension:\n",
      "The table given here shows the production of five types of tractors by a company in the year 2012 to 2017. Study the table and answer the questions that follow\n",
      "Table: Production of Tractors by a Company\n",
      "Table:\n",
      "| Company /Year | 2012 | 2013 | 2014 | 2015 | 2016 | 2017 | Total |\n",
      "|---------------|------|------|------|------|------|------|-------|\n",
      "| A | 8 | 20 | 16 | 17 | 21 | 6 | 88 |\n",
      "| B | 16 | 10 | 14 | 12 | 12 | 14 | 78 |\n",
      "| C | 21 | 17 | 16 | 15 | 13 | 8 | 90 |\n",
      "| D | 4 | 6 | 10 | 16 | 20 | 31 | 87 |\n",
      "| E | 25 | 18 | 19 | 30 | 14 | 27 | 133 |\n",
      "| Total | 74 | 71 | 75 | 90 | 80 | 86 | 476 |\n",
      "\n",
      "SubQuestion No: 71\n",
      "During the period 2012-2017, in which type of tractors was there a continuous increase in production?\n",
      "In a field trial with 7 treatments and 5 replications if the Tr ss and Error ss values are 280.60 and 196.50, the calculated F value will be?\n",
      "The equality of variance of two population is tested using?\n",
      "Experimental design in which two experimental errors are calculated is?\n",
      "The test between two population variances is done by?\n",
      "In an RBD with 4 treatments and 5 replications, the degree of freedom for error is?\n"
     ]
    }
   ],
   "source": [
    "for c in categories_dict['Data Science in Agriculture']:\n",
    "    #agronomy_dict['Yes'].remove(c)\n",
    "    print(c['question'])"
   ]
  }
 ],
 "metadata": {
  "kernelspec": {
   "display_name": "base",
   "language": "python",
   "name": "python3"
  },
  "language_info": {
   "codemirror_mode": {
    "name": "ipython",
    "version": 3
   },
   "file_extension": ".py",
   "mimetype": "text/x-python",
   "name": "python",
   "nbconvert_exporter": "python",
   "pygments_lexer": "ipython3",
   "version": "3.12.7"
  }
 },
 "nbformat": 4,
 "nbformat_minor": 2
}
