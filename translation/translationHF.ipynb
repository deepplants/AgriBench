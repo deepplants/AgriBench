{
 "cells": [
  {
   "cell_type": "code",
   "execution_count": 2,
   "metadata": {},
   "outputs": [
    {
     "ename": "ModuleNotFoundError",
     "evalue": "No module named 'transformers'",
     "output_type": "error",
     "traceback": [
      "\u001b[0;31m---------------------------------------------------------------------------\u001b[0m",
      "\u001b[0;31mModuleNotFoundError\u001b[0m                       Traceback (most recent call last)",
      "Cell \u001b[0;32mIn[2], line 1\u001b[0m\n\u001b[0;32m----> 1\u001b[0m \u001b[38;5;28;01mfrom\u001b[39;00m \u001b[38;5;21;01mtransformers\u001b[39;00m \u001b[38;5;28;01mimport\u001b[39;00m pipeline\n\u001b[1;32m      2\u001b[0m \u001b[38;5;28;01mimport\u001b[39;00m \u001b[38;5;21;01mtorch\u001b[39;00m\n\u001b[1;32m      4\u001b[0m device \u001b[38;5;241m=\u001b[39m torch\u001b[38;5;241m.\u001b[39mdevice(\u001b[38;5;124m'\u001b[39m\u001b[38;5;124mcuda\u001b[39m\u001b[38;5;124m'\u001b[39m)\n",
      "\u001b[0;31mModuleNotFoundError\u001b[0m: No module named 'transformers'"
     ]
    }
   ],
   "source": [
    "from transformers import pipeline\n",
    "import torch\n",
    "\n",
    "device = torch.device('cuda')\n",
    "pipe = pipeline(\"translation\", model=\"facebook/nllb-200-3.3B\", device=device, max_length=10000)"
   ]
  },
  {
   "cell_type": "code",
   "execution_count": null,
   "metadata": {},
   "outputs": [],
   "source": [
    "source_file = '''Qual é a composição do feijão?\n",
    "Cada 100 g de feijão cru contêm, em média:\n",
    "- Proteína: 22 g\n",
    "- Carboidrato: 61 g\n",
    "- Fibra: 4,3 g\n",
    "- Lipídio: 1,6 g\n",
    "- Cinza: 3,6 g\n",
    "- Cálcio: 86 mg\n",
    "- Fósforo: 247 mg\n",
    "- Ferro: 7,6 mg\n",
    "- Vitamina A: 2 µg\n",
    "- Vitamina B1: 0,54 mg\n",
    "- Vitamina B2: 0,19 mg\n",
    "\n",
    "\n",
    "Como é classificado o feijão no Brasil?\n",
    "No Brasil, o feijão é classificado em dois grupos: I e II. Dentro do grupo I, está o feijão-comum, que pertence à espécie Phaseolus vulgaris. No grupo II, encontra-se o feijão-caupi (feijão-de-corda ou feijão-macassar), que pertence à espécie Vigna unguiculata (L) Walp. As demais espécies de feijão não recebem classificação.\n",
    "'''\n",
    "output = pipe(source_file, src_lang=\"por_Latn\", tgt_lang=\"eng_Latn\")[0]['translation_text']"
   ]
  },
  {
   "cell_type": "code",
   "execution_count": null,
   "metadata": {},
   "outputs": [],
   "source": [
    "print(output)"
   ]
  },
  {
   "cell_type": "code",
   "execution_count": null,
   "metadata": {},
   "outputs": [],
   "source": [
    "'''In Brazil, the bean is classified into two groups: I and II. Within group I, there is the common bean, which belongs to the species Phaseolus vulgaris. In group II, there is the caupi bean (rope bean or macassar bean), which belongs to the species Vigna unguiculata (L) Walp. The other bean species do not receive classification.'''\n"
   ]
  }
 ],
 "metadata": {
  "kernelspec": {
   "display_name": "base",
   "language": "python",
   "name": "python3"
  },
  "language_info": {
   "codemirror_mode": {
    "name": "ipython",
    "version": 3
   },
   "file_extension": ".py",
   "mimetype": "text/x-python",
   "name": "python",
   "nbconvert_exporter": "python",
   "pygments_lexer": "ipython3",
   "version": "3.9.15"
  }
 },
 "nbformat": 4,
 "nbformat_minor": 2
}
