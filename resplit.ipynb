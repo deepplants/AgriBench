{
 "cells": [
  {
   "cell_type": "code",
   "execution_count": 10,
   "metadata": {},
   "outputs": [
    {
     "name": "stderr",
     "output_type": "stream",
     "text": [
      "/root/miniconda3/lib/python3.10/site-packages/tqdm/auto.py:21: TqdmWarning: IProgress not found. Please update jupyter and ipywidgets. See https://ipywidgets.readthedocs.io/en/stable/user_install.html\n",
      "  from .autonotebook import tqdm as notebook_tqdm\n"
     ]
    }
   ],
   "source": [
    "import datasets\n",
    "import os\n",
    "from datasets import load_dataset, concatenate_datasets"
   ]
  },
  {
   "cell_type": "code",
   "execution_count": 15,
   "metadata": {},
   "outputs": [],
   "source": [
    "def resplit_and_save(dataset_name, input_path, output_path):\n",
    "    \"\"\"\n",
    "    Resplits a dataset and saves it in Parquet format.\n",
    "\n",
    "    Args:\n",
    "        dataset_name (str): Name of the dataset.\n",
    "        input_path (str): Path to the input dataset files.\n",
    "        output_path (str): Path to save the resplit datasets.\n",
    "\n",
    "    Returns:\n",
    "        None\n",
    "    \"\"\"\n",
    "    # Ensure the output directory exists\n",
    "    dataset_output_path = f'{output_path}/{dataset_name}'\n",
    "    os.makedirs(dataset_output_path, exist_ok=True)\n",
    "\n",
    "    # Load the dataset\n",
    "    dataset_dict = load_dataset('parquet', data_files={\n",
    "        'dev': f'{input_path}/{dataset_name}/dev-00000-of-00001.parquet',\n",
    "        'test': f'{input_path}/{dataset_name}/test-00000-of-00001.parquet',\n",
    "        'validation': f'{input_path}/{dataset_name}/validation-00000-of-00001.parquet'\n",
    "    })\n",
    "\n",
    "    # Step 1: Combine all rows from dev, validation, and test into one dataset\n",
    "    combined = concatenate_datasets([\n",
    "        dataset_dict['dev'],\n",
    "        dataset_dict['validation'],\n",
    "        dataset_dict['test']\n",
    "    ])\n",
    "\n",
    "    # Step 2: Extract up to 16 rows for the new dev set\n",
    "    num_dev_rows = min(16, len(combined))\n",
    "    new_dev = combined.select(range(num_dev_rows))\n",
    "\n",
    "    # Step 3: Use the remaining rows for validation and test splits\n",
    "    if len(combined) > num_dev_rows:\n",
    "        remaining = combined.select(range(num_dev_rows, len(combined)))\n",
    "        split = remaining.train_test_split(test_size=0.1, seed=42)  # Set seed for reproducibility\n",
    "        new_validation = split['train']\n",
    "        new_test = split['test']\n",
    "    else:\n",
    "        # If there are fewer than 16 rows, copy the dev set to validation and test\n",
    "        new_validation = new_dev\n",
    "        new_test = new_dev\n",
    "\n",
    "    # Step 4: Save the new DatasetDict in Parquet format\n",
    "    new_dev.to_parquet(f'{dataset_output_path}/dev-00000-of-00001.parquet')\n",
    "    new_validation.to_parquet(f'{dataset_output_path}/validation-00000-of-00001.parquet')\n",
    "    new_test.to_parquet(f'{dataset_output_path}/test-00000-of-00001.parquet')\n",
    "\n",
    "    print(f\"Dataset resplit and saved to {dataset_output_path}/\")\n"
   ]
  },
  {
   "cell_type": "code",
   "execution_count": 11,
   "metadata": {},
   "outputs": [
    {
     "ename": "NameError",
     "evalue": "name 'resplit_and_save' is not defined",
     "output_type": "error",
     "traceback": [
      "\u001b[0;31m---------------------------------------------------------------------------\u001b[0m",
      "\u001b[0;31mNameError\u001b[0m                                 Traceback (most recent call last)",
      "Cell \u001b[0;32mIn[11], line 6\u001b[0m\n\u001b[1;32m      3\u001b[0m output_path \u001b[38;5;241m=\u001b[39m \u001b[38;5;124m'\u001b[39m\u001b[38;5;124m/workdir/important_datasets/AGRIVQA_light\u001b[39m\u001b[38;5;124m'\u001b[39m\n\u001b[1;32m      5\u001b[0m \u001b[38;5;28;01mfor\u001b[39;00m dataset_name \u001b[38;5;129;01min\u001b[39;00m dataset_names:\n\u001b[0;32m----> 6\u001b[0m     \u001b[43mresplit_and_save\u001b[49m(dataset_name, input_path, output_path)\n",
      "\u001b[0;31mNameError\u001b[0m: name 'resplit_and_save' is not defined"
     ]
    }
   ],
   "source": [
    "dataset_names = os.listdir('/workdir/AGRIVQA')\n",
    "input_path = '/workdir/AGRIVQA'\n",
    "output_path = '/workdir/important_datasets/AGRIVQA_light'\n",
    "\n",
    "for dataset_name in dataset_names:\n",
    "    resplit_and_save(dataset_name, input_path, output_path)"
   ]
  },
  {
   "cell_type": "code",
   "execution_count": 26,
   "metadata": {},
   "outputs": [],
   "source": [
    "input_path = '/workdir/important_datasets/AGRIVQA_light'\n",
    "dataset = {}\n",
    "for dataset_name in dataset_names:\n",
    "    dataset[dataset_name] = load_dataset('parquet', data_files={\n",
    "        'dev': f'{input_path}/{dataset_name}/dev-00000-of-00001.parquet',\n",
    "        'test': f'{input_path}/{dataset_name}/test-00000-of-00001.parquet',\n",
    "        'validation': f'{input_path}/{dataset_name}/validation-00000-of-00001.parquet'\n",
    "    })"
   ]
  },
  {
   "cell_type": "code",
   "execution_count": 27,
   "metadata": {},
   "outputs": [
    {
     "data": {
      "text/plain": [
       "{'Identification': DatasetDict({\n",
       "     dev: Dataset({\n",
       "         features: ['id', 'question', 'options', 'explanation', 'image_1', 'image_2', 'image_3', 'image_4', 'image_5', 'img_type', 'answer', 'topic_difficulty', 'question_type', 'subfield', 'metadata'],\n",
       "         num_rows: 16\n",
       "     })\n",
       "     test: Dataset({\n",
       "         features: ['id', 'question', 'options', 'explanation', 'image_1', 'image_2', 'image_3', 'image_4', 'image_5', 'img_type', 'answer', 'topic_difficulty', 'question_type', 'subfield', 'metadata'],\n",
       "         num_rows: 9\n",
       "     })\n",
       "     validation: Dataset({\n",
       "         features: ['id', 'question', 'options', 'explanation', 'image_1', 'image_2', 'image_3', 'image_4', 'image_5', 'img_type', 'answer', 'topic_difficulty', 'question_type', 'subfield', 'metadata'],\n",
       "         num_rows: 75\n",
       "     })\n",
       " }),\n",
       " 'AgriExam': DatasetDict({\n",
       "     dev: Dataset({\n",
       "         features: ['id', 'question', 'options', 'explanation', 'image_1', 'image_2', 'image_3', 'image_4', 'image_5', 'img_type', 'answer', 'topic_difficulty', 'question_type', 'subfield', 'metadata'],\n",
       "         num_rows: 16\n",
       "     })\n",
       "     test: Dataset({\n",
       "         features: ['id', 'question', 'options', 'explanation', 'image_1', 'image_2', 'image_3', 'image_4', 'image_5', 'img_type', 'answer', 'topic_difficulty', 'question_type', 'subfield', 'metadata'],\n",
       "         num_rows: 624\n",
       "     })\n",
       "     validation: Dataset({\n",
       "         features: ['id', 'question', 'options', 'explanation', 'image_1', 'image_2', 'image_3', 'image_4', 'image_5', 'img_type', 'answer', 'topic_difficulty', 'question_type', 'subfield', 'metadata'],\n",
       "         num_rows: 5613\n",
       "     })\n",
       " }),\n",
       " '500P': DatasetDict({\n",
       "     dev: Dataset({\n",
       "         features: ['id', 'question', 'options', 'explanation', 'image_1', 'image_2', 'image_3', 'image_4', 'image_5', 'img_type', 'answer', 'topic_difficulty', 'question_type', 'subfield', 'metadata'],\n",
       "         num_rows: 16\n",
       "     })\n",
       "     test: Dataset({\n",
       "         features: ['id', 'question', 'options', 'explanation', 'image_1', 'image_2', 'image_3', 'image_4', 'image_5', 'img_type', 'answer', 'topic_difficulty', 'question_type', 'subfield', 'metadata'],\n",
       "         num_rows: 2021\n",
       "     })\n",
       "     validation: Dataset({\n",
       "         features: ['id', 'question', 'options', 'explanation', 'image_1', 'image_2', 'image_3', 'image_4', 'image_5', 'img_type', 'answer', 'topic_difficulty', 'question_type', 'subfield', 'metadata'],\n",
       "         num_rows: 18180\n",
       "     })\n",
       " }),\n",
       " 'EPPO': DatasetDict({\n",
       "     dev: Dataset({\n",
       "         features: ['id', 'question', 'options', 'explanation', 'image_1', 'image_2', 'image_3', 'image_4', 'image_5', 'img_type', 'answer', 'options_difficulty', 'question_type', 'subfield', 'metadata'],\n",
       "         num_rows: 16\n",
       "     })\n",
       "     test: Dataset({\n",
       "         features: ['id', 'question', 'options', 'explanation', 'image_1', 'image_2', 'image_3', 'image_4', 'image_5', 'img_type', 'answer', 'options_difficulty', 'question_type', 'subfield', 'metadata'],\n",
       "         num_rows: 2064\n",
       "     })\n",
       "     validation: Dataset({\n",
       "         features: ['id', 'question', 'options', 'explanation', 'image_1', 'image_2', 'image_3', 'image_4', 'image_5', 'img_type', 'answer', 'options_difficulty', 'question_type', 'subfield', 'metadata'],\n",
       "         num_rows: 18568\n",
       "     })\n",
       " }),\n",
       " 'WikiHow': DatasetDict({\n",
       "     dev: Dataset({\n",
       "         features: ['id', 'question', 'options', 'explanation', 'image_1', 'image_2', 'image_3', 'image_4', 'image_5', 'img_type', 'answer', 'options_difficulty', 'question_type', 'subfield', 'metadata'],\n",
       "         num_rows: 16\n",
       "     })\n",
       "     test: Dataset({\n",
       "         features: ['id', 'question', 'options', 'explanation', 'image_1', 'image_2', 'image_3', 'image_4', 'image_5', 'img_type', 'answer', 'options_difficulty', 'question_type', 'subfield', 'metadata'],\n",
       "         num_rows: 213\n",
       "     })\n",
       "     validation: Dataset({\n",
       "         features: ['id', 'question', 'options', 'explanation', 'image_1', 'image_2', 'image_3', 'image_4', 'image_5', 'img_type', 'answer', 'options_difficulty', 'question_type', 'subfield', 'metadata'],\n",
       "         num_rows: 1917\n",
       "     })\n",
       " })}"
      ]
     },
     "execution_count": 27,
     "metadata": {},
     "output_type": "execute_result"
    }
   ],
   "source": [
    "dataset"
   ]
  },
  {
   "cell_type": "code",
   "execution_count": 22,
   "metadata": {},
   "outputs": [
    {
     "ename": "KeyError",
     "evalue": "'Identification'",
     "output_type": "error",
     "traceback": [
      "\u001b[0;31m---------------------------------------------------------------------------\u001b[0m",
      "\u001b[0;31mKeyError\u001b[0m                                  Traceback (most recent call last)",
      "Cell \u001b[0;32mIn[22], line 2\u001b[0m\n\u001b[1;32m      1\u001b[0m \u001b[38;5;28;01mfor\u001b[39;00m dataset_name \u001b[38;5;129;01min\u001b[39;00m dataset_names:\n\u001b[0;32m----> 2\u001b[0m     \u001b[43mdataset\u001b[49m\u001b[43m[\u001b[49m\u001b[43mdataset_name\u001b[49m\u001b[43m]\u001b[49m\n",
      "\u001b[0;31mKeyError\u001b[0m: 'Identification'"
     ]
    }
   ],
   "source": [
    "for dataset_name in dataset_names:\n",
    "    dataset[dataset_name]"
   ]
  }
 ],
 "metadata": {
  "kernelspec": {
   "display_name": "base",
   "language": "python",
   "name": "python3"
  },
  "language_info": {
   "codemirror_mode": {
    "name": "ipython",
    "version": 3
   },
   "file_extension": ".py",
   "mimetype": "text/x-python",
   "name": "python",
   "nbconvert_exporter": "python",
   "pygments_lexer": "ipython3",
   "version": "3.10.15"
  }
 },
 "nbformat": 4,
 "nbformat_minor": 2
}
