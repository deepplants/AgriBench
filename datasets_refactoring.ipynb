{
 "cells": [
  {
   "cell_type": "code",
   "execution_count": 11,
   "metadata": {},
   "outputs": [],
   "source": [
    "from datasets import Features, Value, Sequence, Image, DatasetInfo\n",
    "from tqdm import tqdm\n",
    "import os\n",
    "from datasets import load_dataset, concatenate_datasets\n",
    "import json\n",
    "import re\n",
    "from copy import deepcopy\n",
    "\n",
    "import asyncio\n",
    "import math\n",
    "import numpy as np\n",
    "import random\n",
    "import pandas as pd\n",
    "from ollama import AsyncClient\n",
    "\n",
    "from random import sample\n",
    "from collections import Counter\n",
    "from openai import OpenAI"
   ]
  },
  {
   "cell_type": "markdown",
   "metadata": {},
   "source": [
    "### Setting Features for each dataset"
   ]
  },
  {
   "cell_type": "code",
   "execution_count": 20,
   "metadata": {},
   "outputs": [],
   "source": [
    "AgriExam_features = Features({\n",
    "    \n",
    " 'id': Value(dtype='string', id=None),\n",
    " 'question': Value(dtype='string', id=None),\n",
    " 'options': Sequence(feature=Value(\"string\")),\n",
    " 'answer': Value(dtype='string', id=None),\n",
    " \n",
    " 'category': Value(dtype='string', id=None), # Plant Science, Pests, Taxonomy, Scientific_name\n",
    " 'question_type': Value(dtype='string', id=None), # multiple choice, open ended \n",
    " \n",
    " 'metadata':Sequence(feature={'source': Value(dtype='string'), 'license': Value(dtype='string'), 'url': Value(dtype='string'), 'language': Value(dtype='string'), 'verbose_answer': Value(dtype='string') } )\n",
    " })"
   ]
  },
  {
   "cell_type": "code",
   "execution_count": 21,
   "metadata": {},
   "outputs": [],
   "source": [
    "Agri500P_features = Features({\n",
    "    \n",
    " 'id': Value(dtype='string', id=None),\n",
    " 'question': Value(dtype='string', id=None),\n",
    " 'answer': Value(dtype='string', id=None),\n",
    " \n",
    " 'context' : Value(dtype='string', id=None),\n",
    " \n",
    " 'category': Value(dtype='string', id=None), # Plant Science, Pests, Taxonomy\n",
    " 'question_type': Value(dtype='string', id=None), # multiple choice, open ended \n",
    " \n",
    " 'metadata':Sequence(feature={'source': Value(dtype='string'), 'license': Value(dtype='string'), 'language': Value(dtype='string'), 'book_title': Value(dtype='string'), 'chapter_title': Value(dtype='string') } )\n",
    " })"
   ]
  },
  {
   "cell_type": "code",
   "execution_count": 26,
   "metadata": {},
   "outputs": [],
   "source": [
    "EPPO_features = Features({\n",
    "    \n",
    "    'id': Value(dtype='string', id=None),\n",
    "    'question': Value(dtype='string', id=None),\n",
    "    'options': Sequence(feature=Value(\"string\")),\n",
    "    'answer': Value(dtype='string', id=None),\n",
    "    \n",
    "    'image': Image(decode=True, id=None),\n",
    "    \n",
    "    'taxon_difficulty' : Value(dtype='int32', id=None),\n",
    "    'options_difficulty': Value(dtype='int32', id=None),\n",
    "    'kingdom' : Value(dtype='string', id=None),\n",
    "    \n",
    "    'category': Value(dtype='string', id=None), # Taxonomy, Growth Stage, Common Name\n",
    "    'question_template' : Value(dtype='string', id=None), # scientific_name, common_name\n",
    "    'question_type': Value(dtype='string', id=None), # multiple choice, open ended\n",
    "    \n",
    "    'metadata':Sequence(feature={'source': Value(dtype='string'), 'license': Value(dtype='string'), 'image_url': Value(dtype='string'), 'language': Value(dtype='string'), 'verbose_answer': Value(dtype='string'), \"eppo_code\": Value(dtype='string'), \"gbif_key\": Value(dtype='string'), \"common_name_language\": Value(dtype='string') } )\n",
    " \n",
    " })"
   ]
  },
  {
   "cell_type": "code",
   "execution_count": 28,
   "metadata": {},
   "outputs": [],
   "source": [
    "GBIF_features = Features({\n",
    "    \n",
    "    'id': Value(dtype='string', id=None),\n",
    "    'question': Value(dtype='string', id=None),\n",
    "    'options': Sequence(feature=Value(\"string\")),\n",
    "    'answer': Value(dtype='string', id=None),\n",
    " \n",
    "    'image_1': Image(decode=True, id=None),\n",
    "    'image_2': Image(decode=True, id=None),\n",
    "    'image_3': Image(decode=True, id=None),\n",
    "    'image_4': Image(decode=True, id=None),\n",
    "    'image_5': Image(decode=True, id=None),\n",
    "    \n",
    "    'options_difficulty': Value(dtype='int32', id=None), # previously topic_difficulty\n",
    "    'category_difficulty': Value(dtype='int32', id=None), # previously subfield last digit\n",
    "    \n",
    "    'region': Value(dtype='string', id=None),\n",
    "    'event_date': Value(dtype='string', id=None),\n",
    "    \n",
    "    # Category can be Horticulture, tropical plants etc\n",
    "    #'category': Value(dtype='string', id=None), #previously subfield # Plant Science, Pests, Taxonomy\n",
    "    'question_templates' :  Value(dtype='string', id=None),\n",
    "    'question_type': Value(dtype='string', id=None), # multiple choice, open ended \n",
    "    \n",
    "    'metadata':Sequence(feature={'source': Value(dtype='string'), 'license': Value(dtype='string'), 'image_url': Sequence(feature=Value(\"string\")), \"gbif_id\": Value(dtype='string'), \"eppo_codes\": Sequence(feature=Value(\"string\")), \"gbif_taxon_key\": Value(dtype='string'), 'language': Value(dtype='string'), 'verbose_answer': Value(dtype='string') } )\n",
    " })"
   ]
  },
  {
   "cell_type": "code",
   "execution_count": 29,
   "metadata": {},
   "outputs": [
    {
     "name": "stderr",
     "output_type": "stream",
     "text": [
      "Generating validation split: 1933 examples [00:00, 60801.60 examples/s]\n",
      "Generating test split: 213 examples [00:00, 26392.52 examples/s]\n"
     ]
    },
    {
     "data": {
      "text/plain": [
       "{'id': 'validation__wikihow_1261',\n",
       " 'question': 'What step is missing from the \"Applying Herbicide to the Stump\" instructions in the \"Prune Lilacs\" procedure?\\n\\nSteps:\\n1. ...............\\n2. Select an herbicide.\\n3. Wear safety equipment.\\n4. Apply herbicide to a stump.',\n",
       " 'options': \"['Assess the risks', 'Consider the benefits and drawbacks', 'Identify potential hazards', 'Know the risks.']\",\n",
       " 'explanation': None,\n",
       " 'image_1': None,\n",
       " 'image_2': None,\n",
       " 'image_3': None,\n",
       " 'image_4': None,\n",
       " 'image_5': None,\n",
       " 'img_type': '',\n",
       " 'answer': 'D',\n",
       " 'options_difficulty': '4',\n",
       " 'question_type': 'multiple-choice',\n",
       " 'subfield': '{subfield}',\n",
       " 'metadata': '{\"source\": \"WikiHow\", \"author\": \"WikiHow\", \"license\": \"\", \"url\": \"{url}\", \"language\": \"English\", \"verbose_answer\": \"{verbose_answer}\", \"question_type\": \"missing_step\"}'}"
      ]
     },
     "execution_count": 29,
     "metadata": {},
     "output_type": "execute_result"
    }
   ],
   "source": [
    "name = \"WikiHow\"\n",
    "datset=load_dataset('/workdir/important_datasets/AGRIVQA/'+name)\n",
    "ds=datset['test']\n",
    "ds[0]"
   ]
  },
  {
   "cell_type": "code",
   "execution_count": null,
   "metadata": {},
   "outputs": [],
   "source": [
    "WikiHow_features = Features({\n",
    "    \n",
    " 'id': Value(dtype='string', id=None),\n",
    " 'question': Value(dtype='string', id=None),\n",
    " 'options': Sequence(feature=Value(\"string\")),\n",
    " 'answer': Value(dtype='string', id=None),\n",
    " \n",
    " 'options_difficulty': Value(dtype='int32', id=None),\n",
    " \n",
    " 'category': Value(dtype='string', id=None), # TODO\n",
    " 'question_type': Value(dtype='string', id=None), # multiple choice, open ended\n",
    " 'question_templates' : Value(dtype='string', id=None), # previously metadata[questiontype]\n",
    " \n",
    " 'metadata':Sequence(feature={'source': Value(dtype='string'), 'url': Value(dtype='string'), 'language': Value(dtype='string'), 'verbose_answer': Value(dtype='string') } )\n",
    " })"
   ]
  },
  {
   "cell_type": "markdown",
   "metadata": {},
   "source": [
    "### Creating the parquet files"
   ]
  },
  {
   "cell_type": "code",
   "execution_count": null,
   "metadata": {},
   "outputs": [],
   "source": [
    "from datasets import Dataset\n",
    "\n",
    "for idx in [dev, validate, test]:\n",
    "    # rename id with progressive number {set}_Identification_{number}\n",
    "    dev_set = df.loc[idx].copy().reset_index(drop=True)\n",
    "    dev_set['index'] = range(1, len(dev_set)+1)\n",
    "    dev_set['id'] = dev_set.apply(lambda x: f\"{x['id'][:x['id'].rindex('_')]}_{x['index']}\", axis=1)\n",
    "    # remove index column\n",
    "    dev_set.drop(columns=['index'], inplace=True)\n",
    "    name = dev_set.id[0].split('_')[0]\n",
    "    # save each batch of length 10000\n",
    "    max_len = 10000\n",
    "    for i in range(0, len(dev_set), max_len):\n",
    "        Dataset.from_pandas(dev_set[i:i+max_len], features=agriexam_features).to_parquet(f'/workdir/AGRIVQA/AgriExam/{name}-{str(i//max_len).zfill(5)}-of-{str((len(dev_set)//max_len)+1).zfill(5)}.parquet')"
   ]
  }
 ],
 "metadata": {
  "kernelspec": {
   "display_name": "base",
   "language": "python",
   "name": "python3"
  },
  "language_info": {
   "codemirror_mode": {
    "name": "ipython",
    "version": 3
   },
   "file_extension": ".py",
   "mimetype": "text/x-python",
   "name": "python",
   "nbconvert_exporter": "python",
   "pygments_lexer": "ipython3",
   "version": "3.12.7"
  }
 },
 "nbformat": 4,
 "nbformat_minor": 2
}
