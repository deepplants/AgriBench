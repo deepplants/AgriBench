{
 "cells": [
  {
   "cell_type": "code",
   "execution_count": 4,
   "metadata": {},
   "outputs": [
    {
     "name": "stderr",
     "output_type": "stream",
     "text": [
      "/root/miniconda3/lib/python3.10/site-packages/tqdm/auto.py:21: TqdmWarning: IProgress not found. Please update jupyter and ipywidgets. See https://ipywidgets.readthedocs.io/en/stable/user_install.html\n",
      "  from .autonotebook import tqdm as notebook_tqdm\n"
     ]
    }
   ],
   "source": [
    "from datasets import Features, Value, Sequence, Image, DatasetInfo, Dataset\n",
    "from tqdm import tqdm\n",
    "import os\n",
    "from datasets import load_dataset, concatenate_datasets\n",
    "import json\n",
    "import re\n",
    "from copy import deepcopy\n",
    "\n",
    "import asyncio\n",
    "import math\n",
    "import numpy as np\n",
    "import random\n",
    "import pandas as pd\n",
    "from ollama import AsyncClient\n",
    "\n",
    "from random import sample\n",
    "from collections import Counter\n",
    "from openai import OpenAI\n",
    "\n",
    "from workdir.utils import save_json, load_json\n",
    "\n",
    "from random import shuffle, sample"
   ]
  },
  {
   "cell_type": "markdown",
   "metadata": {},
   "source": [
    "### Setting Features and rows for each dataset"
   ]
  },
  {
   "cell_type": "code",
   "execution_count": null,
   "metadata": {},
   "outputs": [],
   "source": [
    "# AgriExam_features = Features({\n",
    "    \n",
    "#  'id': Value(dtype='string', id=None),\n",
    "#  'question': Value(dtype='string', id=None),\n",
    "#  'options': Sequence(feature=Value(\"string\")),\n",
    "#  'answer': Value(dtype='string', id=None),\n",
    " \n",
    "#  'category': Value(dtype='string', id=None), # Plant Science, Pests, Taxonomy, Scientific_name\n",
    "#  'question_type': Value(dtype='string', id=None), # multiple choice, open ended \n",
    " \n",
    "#  'metadata':{'source': Value(dtype='string'),\n",
    "#                               'license': Value(dtype='string'),\n",
    "#                               'url': Value(dtype='string'),\n",
    "#                               'language': Value(dtype='string'),\n",
    "#                               'verbose_answer': Value(dtype='string') \n",
    "#                               }\n",
    "                    \n",
    "#  })"
   ]
  },
  {
   "cell_type": "code",
   "execution_count": null,
   "metadata": {},
   "outputs": [],
   "source": [
    "# Agri500P_features = Features({\n",
    "    \n",
    "#  'id': Value(dtype='string', id=None),\n",
    "#  'question': Value(dtype='string', id=None),\n",
    "#  'answer': Value(dtype='string', id=None),\n",
    " \n",
    "#  'context': Value(dtype='string', id=None),\n",
    " \n",
    "#  'category': Value(dtype='string', id=None), # Plant Science, Pests, Taxonomy\n",
    "#  'question_type': Value(dtype='string', id=None), # multiple choice, open ended \n",
    " \n",
    "#  'metadata': {'source': Value(dtype='string'),\n",
    "#                                'license': Value(dtype='string'),\n",
    "#                                'language': Value(dtype='string'),\n",
    "#                                'book_title': Value(dtype='string'),\n",
    "#                                'chapter_title': Value(dtype='string')\n",
    "#                                }\n",
    "#  })"
   ]
  },
  {
   "cell_type": "code",
   "execution_count": 35,
   "metadata": {},
   "outputs": [],
   "source": [
    "Agri500P_row = {\n",
    "    \"id\": \"_Agri500P_{number}\",\n",
    "    \"question\": \"{question}\",\n",
    "    \"answer\": \"{answer}\",\n",
    "    \"context\": \"{context}\",\n",
    "    \"category\": \"{category}\",  # Example: Plant Science, Pests, Taxonomy\n",
    "    \"question_type\": \"{question_type}\",  # Example: multiple choice, open ended\n",
    "    \"metadata\":\n",
    "        {\n",
    "            \"source\": \"{source}\",\n",
    "            \"license\": \"{license}\",\n",
    "            \"language\": \"{language}\",\n",
    "            \"book_title\": \"{book_title}\",\n",
    "            \"chapter_title\": \"{chapter_title}\"\n",
    "        }\n",
    "}"
   ]
  },
  {
   "cell_type": "code",
   "execution_count": null,
   "metadata": {},
   "outputs": [],
   "source": [
    "# EPPO_features = Features({\n",
    "    \n",
    "#     'id': Value(dtype='string', id=None),\n",
    "#     'question': Value(dtype='string', id=None),\n",
    "#     'options': Sequence(feature=Value(\"string\")),\n",
    "#     'answer': Value(dtype='string', id=None),\n",
    "    \n",
    "#     'image': Image(decode=True, id=None),\n",
    "    \n",
    "#     'taxon_difficulty': Value(dtype='int32', id=None), # how common is the taxon in the picture?\n",
    "#     'options_difficulty': Value(dtype='int32', id=None),\n",
    "#     'kingdom': Value(dtype='string', id=None),\n",
    "    \n",
    "#     'category': Value(dtype='string', id=None), # Taxonomy, Growth Stage, Common Name\n",
    "#     'question_template' : Value(dtype='string', id=None), # scientific_name, common_name\n",
    "#     'question_type': Value(dtype='string', id=None), # multiple choice, open ended\n",
    "    \n",
    "#     'metadata': {'source': Value(dtype='string'),\n",
    "#                                   'license': Value(dtype='string'),\n",
    "#                                   'image_url': Value(dtype='string'),\n",
    "#                                   'language': Value(dtype='string'),\n",
    "#                                   'verbose_answer': Value(dtype='string'),\n",
    "#                                   \"eppo_code\": Value(dtype='string'),\n",
    "#                                   \"gbif_key\": Value(dtype='string'),\n",
    "#                                   \"common_name_language\": Value(dtype='string') \n",
    "#                                   }\n",
    "#     })"
   ]
  },
  {
   "cell_type": "code",
   "execution_count": null,
   "metadata": {},
   "outputs": [],
   "source": [
    "# GBIF_features = Features({\n",
    "    \n",
    "#     'id': Value(dtype='string', id=None),\n",
    "#     'question': Value(dtype='string', id=None),\n",
    "#     'options': Sequence(feature=Value(\"string\")),\n",
    "#     'answer': Value(dtype='string', id=None),\n",
    " \n",
    "#     'image_1': Image(decode=True, id=None),\n",
    "#     'image_2': Image(decode=True, id=None),\n",
    "#     'image_3': Image(decode=True, id=None),\n",
    "#     'image_4': Image(decode=True, id=None),\n",
    "#     'image_5': Image(decode=True, id=None),\n",
    "    \n",
    "#     'options_difficulty': Value(dtype='int32', id=None), # previously topic_difficulty\n",
    "    \n",
    "#     'region': Value(dtype='string', id=None),\n",
    "#     'event_date': Value(dtype='string', id=None),\n",
    "    \n",
    "#     # Category can be Horticulture, tropical plants etc\n",
    "#     #'category': Value(dtype='string', id=None), #previously subfield # Plant Science, Pests, Taxonomy\n",
    "#     'question_template' :  Value(dtype='string', id=None),\n",
    "#     'question_type': Value(dtype='string', id=None), # multiple choice, open ended \n",
    "    \n",
    "#     'metadata': {'source': Value(dtype='string'),\n",
    "#                                   'license': Value(dtype='string'),\n",
    "#                                   'image_url': Sequence(feature=Value(\"string\")),\n",
    "#                                   \"gbif_id\": Value(dtype='string'),\n",
    "#                                   \"eppo_codes\": Sequence(feature=Value(\"string\")),\n",
    "#                                   \"gbif_taxon_key\": Value(dtype='string'),\n",
    "#                                   'language': Value(dtype='string'),\n",
    "#                                   'verbose_answer': Value(dtype='string')\n",
    "#                                   }\n",
    "#     })"
   ]
  },
  {
   "cell_type": "code",
   "execution_count": 39,
   "metadata": {},
   "outputs": [],
   "source": [
    "GBIF_row = {\n",
    "    \"id\": \"_GBIF_{number}\",\n",
    "    \"question\": \"{question}\",\n",
    "    \"options\": [\"{option_1}\", \"{option_2}\", \"{option_3}\", \"{option_4}\"],  # List of options\n",
    "    \"answer\": \"{answer}\",\n",
    "    \"image_1\": \"{image_path_1}\",  # Path to image 1\n",
    "    \"image_2\": \"{image_path_2}\",  # Path to image 2\n",
    "    \"image_3\": \"{image_path_3}\",  # Path to image 3\n",
    "    \"image_4\": \"{image_path_4}\",  # Path to image 4\n",
    "    \"image_5\": \"{image_path_5}\",  # Path to image 5\n",
    "    \"options_difficulty\": 0,  # Integer\n",
    "    \"region\": \"{region}\",  # Example: Europe, Asia\n",
    "    \"event_date\": \"{event_date}\",  # Example: 2024-12-16\n",
    "    \"question_template\": \"{question_template}\",  # Example: common_name, scientific_name\n",
    "    \"question_type\": \"{question_type}\",  # Example: multiple choice, open ended\n",
    "    \"metadata\":\n",
    "        {\n",
    "            \"source\": \"{source}\",\n",
    "            \"license\": \"{license}\",\n",
    "            \"image_url\": [\"{image_url_1}\", \"{image_url_2}\"],  # List of image URLs\n",
    "            \"gbif_id\": \"{gbif_id}\",\n",
    "            \"eppo_codes\": [\"{eppo_code_1}\", \"{eppo_code_2}\"],  # List of EPPO codes\n",
    "            \"gbif_taxon_key\": \"{gbif_taxon_key}\",\n",
    "            \"language\": \"{language}\",\n",
    "            \"verbose_answer\": \"{verbose_answer}\"\n",
    "        }\n",
    "}"
   ]
  },
  {
   "cell_type": "code",
   "execution_count": null,
   "metadata": {},
   "outputs": [],
   "source": [
    "# WikiHow_features = Features({\n",
    "    \n",
    "#  'id': Value(dtype='string', id=None),\n",
    "#  'question': Value(dtype='string', id=None),\n",
    "#  'options': Sequence(feature=Value(\"string\")),\n",
    "#  'answer': Value(dtype='string', id=None),\n",
    " \n",
    "#  'options_difficulty': Value(dtype='int32', id=None),\n",
    " \n",
    "#  'category': Value(dtype='string', id=None), # TODO\n",
    "#  'question_type': Value(dtype='string', id=None), # multiple choice, open ended\n",
    "#  'question_template' : Value(dtype='string', id=None), # previously metadata[questiontype]\n",
    " \n",
    "#  'metadata': {'source': Value(dtype='string'),\n",
    "#                                'url': Value(dtype='string'),\n",
    "#                                'language': Value(dtype='string'),\n",
    "#                                'verbose_answer': Value(dtype='string')\n",
    "#                                }\n",
    "#  })"
   ]
  },
  {
   "cell_type": "code",
   "execution_count": 41,
   "metadata": {},
   "outputs": [],
   "source": [
    "WikiHow_row = {\n",
    "    \"id\": \"_WikiHow_{number}\",\n",
    "    \"question\": \"{question}\",\n",
    "    \"options\": [\"{option_1}\", \"{option_2}\", \"{option_3}\", \"{option_4}\"],  # List of options\n",
    "    \"answer\": \"{answer}\",\n",
    "    \"options_difficulty\": 0,  # Integer\n",
    "    \"category\": \"{category}\",  # Example: TODO\n",
    "    \"question_type\": \"{question_type}\",  # Example: multiple choice, open ended\n",
    "    \"question_template\": \"{question_template}\",  # Example: questiontype\n",
    "    \"metadata\":\n",
    "        {\n",
    "            \"source\": \"{source}\",\n",
    "            \"url\": \"{url}\",\n",
    "            \"language\": \"{language}\",\n",
    "            \"verbose_answer\": \"{verbose_answer}\"\n",
    "        }\n",
    "}"
   ]
  },
  {
   "cell_type": "markdown",
   "metadata": {},
   "source": [
    "### Create dataframes"
   ]
  },
  {
   "cell_type": "markdown",
   "metadata": {},
   "source": [
    "### Split and Save"
   ]
  },
  {
   "cell_type": "code",
   "execution_count": 14,
   "metadata": {},
   "outputs": [],
   "source": [
    "import random\n",
    "RANDOM_SEED = 888 # lottomatica\n",
    "\n",
    "def create_split(data, dev_size=16, test_size_ratio=0.8, random_seed=RANDOM_SEED):\n",
    "    # data is rows as a list of dictionaries \n",
    "    random.seed(random_seed)\n",
    "    # Shuffle the data for randomness\n",
    "    data = deepcopy(data)\n",
    "    random.shuffle(data)\n",
    "    \n",
    "    # Split the data into dev, test, and validation\n",
    "    dev_split = data[:dev_size]\n",
    "    remaining_data = data[dev_size:]\n",
    "    test_size = int(len(remaining_data) * test_size_ratio)\n",
    "    test_split = remaining_data[:test_size]\n",
    "    validation_split = remaining_data[test_size:]\n",
    "    \n",
    "    split_dict = {'dev': dev_split, 'test': test_split, 'validation': validation_split}\n",
    "        \n",
    "    return split_dict\n",
    "\n",
    "def rename_split(split_dict):\n",
    "    # split_dict is a dictionary {split_name: rows}\n",
    "    # renames row['id'] adding split_name and increasing id\n",
    "    \n",
    "    renamed = {k: v for k, v in split_dict.items()}\n",
    "    \n",
    "    for split, rows in split_dict.items():\n",
    "        for i, row in enumerate(rows):\n",
    "            row['id'] = f\"{split}_{row['id']}_{i+1}\"\n",
    "            \n",
    "    return renamed\n",
    "\n",
    "def split_and_save(all_rows, root_folder='/workdir/AGRIVQA/prova/', max_len=None, random_seed=RANDOM_SEED):\n",
    "    dataset_name = all_rows[0]['id']\n",
    "    \n",
    "    split_dict = create_split(all_rows, random_seed=random_seed)\n",
    "    split_dict = rename_split(split_dict)\n",
    "       \n",
    "    for split in split_dict:\n",
    "        rows = split_dict[split]\n",
    "\n",
    "        if not max_len:\n",
    "            max_rows = len(rows)\n",
    "        else:\n",
    "            max_rows = max_len\n",
    "            \n",
    "        for i in range(0, len(rows), max_rows):\n",
    "            dataset = Dataset.from_list(rows[i:i+max_rows])\n",
    "            num_files = 1 if len(rows) == max_rows else len(rows) // max_rows + 1\n",
    "            file_name = f'{split}-{str(i//max_rows).zfill(5)}-of-{str(num_files).zfill(5)}.parquet'\n",
    "            file_path = os.path.join(root_folder, dataset_name, file_name)\n",
    "            \n",
    "            os.makedirs(os.path.dirname(file_path), exist_ok=True)\n",
    "            dataset.to_parquet(file_path)   \n",
    "    "
   ]
  },
  {
   "cell_type": "markdown",
   "metadata": {},
   "source": [
    "### AgriExam\n"
   ]
  },
  {
   "cell_type": "code",
   "execution_count": 33,
   "metadata": {},
   "outputs": [],
   "source": [
    "AgriExam_row = {\n",
    "    \"id\": \"_AgriExam_{number}\",\n",
    "    \"question\": \"{question}\",\n",
    "    \"options\": [\"{option_1}\", \"{option_2}\", \"{option_3}\", \"{option_4}\"],  # Assuming options are strings in a list\n",
    "    \"answer\": \"{answer}\",\n",
    "    \"category\": \"{category}\",  # Matches the 'category' field\n",
    "    \"question_type\": \"{question_type}\",  # Matches the 'question_type' field\n",
    "    \"metadata\":\n",
    "        {\n",
    "            \"source\": \"{source}\",\n",
    "            \"license\": \"{license}\",\n",
    "            \"url\": \"{url}\",\n",
    "            \"language\": \"{language}\",\n",
    "            \"verbose_answer\": \"{verbose_answer}\"\n",
    "        }\n",
    "}"
   ]
  },
  {
   "cell_type": "code",
   "execution_count": 286,
   "metadata": {},
   "outputs": [
    {
     "name": "stderr",
     "output_type": "stream",
     "text": [
      "100%|██████████| 79/79 [00:00<00:00, 19924.84it/s]\n",
      "100%|██████████| 192/192 [00:00<00:00, 20509.00it/s]\n",
      "  0%|          | 0/347 [00:00<?, ?it/s]"
     ]
    },
    {
     "name": "stderr",
     "output_type": "stream",
     "text": [
      "100%|██████████| 347/347 [00:00<00:00, 20568.45it/s]\n",
      "100%|██████████| 74/74 [00:00<00:00, 20575.31it/s]\n",
      "100%|██████████| 317/317 [00:00<00:00, 20898.01it/s]\n",
      "100%|██████████| 745/745 [00:00<00:00, 21045.96it/s]\n",
      "100%|██████████| 155/155 [00:00<00:00, 20661.60it/s]\n",
      "100%|██████████| 114/114 [00:00<00:00, 20987.17it/s]\n",
      "100%|██████████| 30/30 [00:00<00:00, 20301.57it/s]\n",
      "100%|██████████| 221/221 [00:00<00:00, 20856.85it/s]\n",
      "100%|██████████| 37/37 [00:00<00:00, 19545.25it/s]\n",
      "100%|██████████| 67/67 [00:00<00:00, 20486.87it/s]\n",
      "100%|██████████| 73/73 [00:00<00:00, 20075.02it/s]\n",
      "100%|██████████| 99/99 [00:00<00:00, 20444.91it/s]\n",
      "100%|██████████| 16/16 [00:00<00:00, 19005.63it/s]\n",
      "100%|██████████| 31/31 [00:00<00:00, 19835.76it/s]\n",
      "100%|██████████| 166/166 [00:00<00:00, 20522.13it/s]\n",
      "100%|██████████| 50/50 [00:00<00:00, 20162.98it/s]\n",
      "100%|██████████| 88/88 [00:00<00:00, 20607.38it/s]\n",
      "100%|██████████| 388/388 [00:00<00:00, 20288.36it/s]\n",
      "100%|██████████| 66/66 [00:00<00:00, 20452.46it/s]\n",
      "100%|██████████| 173/173 [00:00<00:00, 20697.55it/s]\n",
      "100%|██████████| 340/340 [00:00<00:00, 20722.54it/s]\n",
      "100%|██████████| 52/52 [00:00<00:00, 20016.87it/s]\n",
      "100%|██████████| 377/377 [00:00<00:00, 20669.43it/s]\n",
      "100%|██████████| 141/141 [00:00<00:00, 20653.66it/s]\n",
      "100%|██████████| 38/38 [00:00<00:00, 20040.68it/s]\n",
      "100%|██████████| 47/47 [00:00<00:00, 20237.38it/s]\n",
      "100%|██████████| 25/25 [00:00<00:00, 19687.87it/s]\n"
     ]
    }
   ],
   "source": [
    "AgriExam_rows = []\n",
    "\n",
    "AgriExam_data = load_json('/workdir/agriexam_category_dictionary.json')\n",
    "\n",
    "for category, questions in AgriExam_data.items():\n",
    "\n",
    "    for q in tqdm(questions):\n",
    "        AgriExam_row['id'] = f\"AgriExam\"\n",
    "        AgriExam_row['question'] = q['question']\n",
    "        options = eval(q['options'])\n",
    "        if len(options) == 0:\n",
    "            options = []\n",
    "        AgriExam_row['options'] = options\n",
    "            \n",
    "        # Placeholder for explanation or any additional info\n",
    "        AgriExam_row['answer'] = q['answer']  # Assuming the correct answer is in q.correct_answer\n",
    "        \n",
    "        # Placeholder for category if applicable, adjust based on your requirements\n",
    "        AgriExam_row['category'] = category  # Replace with actual category logic if needed\n",
    "        \n",
    "        # Placeholder for question_type logic: assuming it's a multiple-choice or open-ended type\n",
    "        if options:\n",
    "            AgriExam_row['question_type'] = 'multiple-choice'\n",
    "        else:\n",
    "            AgriExam_row['question_type'] = 'open-ended'\n",
    "        \n",
    "        # Metadata section: Assuming placeholders for now\n",
    "        metadata = eval(q['metadata'])\n",
    "        \n",
    "        AgriExam_row['metadata']['source'] = metadata['source']  # Replace with actual source if needed\n",
    "        AgriExam_row['metadata']['license'] = metadata['license']\n",
    "        AgriExam_row['metadata']['url'] = metadata['url']\n",
    "        AgriExam_row['metadata']['language'] = metadata['language']\n",
    "        AgriExam_row['metadata']['verbose_answer'] = metadata['verbose_answer']\n",
    "\n",
    "        # Appending the row to rows\n",
    "        AgriExam_rows.append(deepcopy(AgriExam_row))"
   ]
  },
  {
   "cell_type": "code",
   "execution_count": 323,
   "metadata": {},
   "outputs": [
    {
     "name": "stderr",
     "output_type": "stream",
     "text": [
      "Creating parquet from Arrow format: 100%|██████████| 1/1 [00:00<00:00, 1824.40ba/s]\n",
      "Creating parquet from Arrow format: 100%|██████████| 4/4 [00:00<00:00, 567.18ba/s]\n",
      "Creating parquet from Arrow format: 100%|██████████| 1/1 [00:00<00:00, 529.65ba/s]\n",
      "Generating dev split: 16 examples [00:00, 4733.98 examples/s]\n",
      "Generating test split: 3625 examples [00:00, 321288.84 examples/s]\n",
      "Generating validation split: 907 examples [00:00, 206538.56 examples/s]\n"
     ]
    },
    {
     "data": {
      "text/plain": [
       "{'id': 'dev_AgriExam_1',\n",
       " 'question': 'Which of the following states is the largest producer of annual flowers’ seeds?',\n",
       " 'options': ['Punjab', 'Karnataka', 'Tamil Nadu', 'Kerala'],\n",
       " 'answer': 'A',\n",
       " 'category': 'Horticulture and Ornamental Plants',\n",
       " 'question_type': 'multiple-choice',\n",
       " 'metadata': {'language': 'English',\n",
       "  'license': '',\n",
       "  'source': 'AgriExam',\n",
       "  'url': 'https://www.agriexam.com/horticulture-jrf-2020',\n",
       "  'verbose_answer': 'Punjab'}}"
      ]
     },
     "execution_count": 323,
     "metadata": {},
     "output_type": "execute_result"
    }
   ],
   "source": [
    "split_and_save(AgriExam_rows)\n",
    "path = '/workdir/AGRIVQA/prova'\n",
    "dataset_name = 'AgriExam'\n",
    "\n",
    "dataset_dict = load_dataset('parquet', data_files={\n",
    "    'dev': f'{path}/{dataset_name}/dev-00000-of-00001.parquet',\n",
    "    'test': f'{path}/{dataset_name}/test-00000-of-00001.parquet',\n",
    "    'validation': f'{path}/{dataset_name}/validation-00000-of-00001.parquet'\n",
    "})\n",
    "\n",
    "dataset_dict['dev'][0]"
   ]
  },
  {
   "cell_type": "markdown",
   "metadata": {},
   "source": [
    "### Agri500P"
   ]
  },
  {
   "cell_type": "code",
   "execution_count": 278,
   "metadata": {},
   "outputs": [],
   "source": [
    "Agri500P_row = {\n",
    "    \"id\": \"_Agri500P_{number}\",\n",
    "    \"question\": \"{question}\",\n",
    "    \"answer\": \"{answer}\",\n",
    "    \"context\": \"{context}\",\n",
    "    \"category\": \"{category}\",  # Example: Plant Science, Pests, Taxonomy\n",
    "    \"question_type\": \"{question_type}\",  # Example: multiple choice, open ended\n",
    "    \"metadata\":\n",
    "        {\n",
    "            \"source\": \"{source}\",\n",
    "            \"license\": \"{license}\",\n",
    "            \"language\": \"{language}\",\n",
    "            \"book_title\": \"{book_title}\",\n",
    "            \"chapter_title\": \"{chapter_title}\"\n",
    "        }\n",
    "}"
   ]
  },
  {
   "cell_type": "code",
   "execution_count": null,
   "metadata": {},
   "outputs": [],
   "source": [
    "task_name = '500P'\n",
    "\n",
    "dataset_name = \"parquet\"\n",
    "data_files = {\n",
    "    \"dev\": \"/workdir/important_datasets/AGRIVQA/\"+task_name+\"/dev-00000-of-00001.parquet\",\n",
    "    \"test\": \"/workdir/important_datasets/AGRIVQA/\"+task_name+\"/test-00000-of-00001.parquet\",\n",
    "    \"validation\": \"/workdir/important_datasets/AGRIVQA/\"+task_name+\"/validation-00000-of-00001.parquet\"\n",
    "}\n",
    "\n",
    "dataset = load_dataset(dataset_name,data_files=data_files)\n",
    "\n",
    "Agri500P_dataset = concatenate_datasets([dataset['dev'], dataset['test'], dataset['validation']])\n"
   ]
  },
  {
   "cell_type": "code",
   "execution_count": null,
   "metadata": {},
   "outputs": [
    {
     "name": "stderr",
     "output_type": "stream",
     "text": [
      "100%|██████████| 20217/20217 [00:03<00:00, 5269.03it/s]\n"
     ]
    }
   ],
   "source": [
    "Agri500P_rows = []\n",
    "\n",
    "pt_en_title=load_json('/workdir/translate_title.json')\n",
    "en_pt_title = {en:pt for pt,en in pt_en_title.items()}\n",
    "\n",
    "Agri500P_category = load_json('/workdir/500P_categories.json')\n",
    "theme_category_dict = {theme:category  for category,theme_list in Agri500P_category.items() for theme in theme_list}\n",
    "\n",
    "\n",
    "for q in tqdm(Agri500P_dataset):\n",
    "    Agri500P_row['id'] = f\"Agri500P\"\n",
    "    Agri500P_row['question'] = q['question']\n",
    "        \n",
    "    # Placeholder for explanation or any additional info\n",
    "    Agri500P_row['answer'] = q['answer']  # Assuming the correct answer is in q.correct_answer\n",
    "    \n",
    "    # Metadata section: Assuming placeholders for now\n",
    "    metadata = eval(q['metadata'])\n",
    "    \n",
    "    # Placeholder for category if applicable, adjust based on your requirements\n",
    "    \n",
    "    book_title = metadata['book_title'].replace(' – The Producer Asks, Embrapa Answers', 's')\n",
    "    chapter_title = metadata['chapter_title'].replace('Strawberry production in greenhouses is a more common topic, but I assume you meant... ', '')\n",
    "    \n",
    "    category = theme_category_dict[f\"{book_title}: {chapter_title}\"]\n",
    "    \n",
    "    Agri500P_row['category'] = category  # Replace with actual category logic if needed\n",
    "    \n",
    "    Agri500P_row['context'] = f\"This question is sourced from the book titled '{book_title}', specifically found in the chapter '{chapter_title}'.\"\n",
    "    \n",
    "    # Placeholder for question_type logic: assuming it's a multiple-choice or open-ended type\n",
    "    if options:\n",
    "        Agri500P_row['question_type'] = 'multiple-choice'\n",
    "    else:\n",
    "        Agri500P_row['question_type'] = 'open-ended'\n",
    "    \n",
    "    \n",
    "    \n",
    "    Agri500P_row['metadata']['source'] = '500 Perguntas e 500 Respostas: ' + en_pt_title[book_title]  # Replace with actual source if needed\n",
    "    Agri500P_row['metadata']['license'] = metadata['license']\n",
    "    Agri500P_row['metadata']['language'] = metadata['language']\n",
    "    Agri500P_row['metadata']['book_title'] = metadata['book_title']\n",
    "    Agri500P_row['metadata']['chapter_title'] = metadata['chapter_title']\n",
    "    # Appending the row to rows\n",
    "    Agri500P_rows.append(deepcopy(Agri500P_row))"
   ]
  },
  {
   "cell_type": "code",
   "execution_count": 326,
   "metadata": {},
   "outputs": [
    {
     "name": "stderr",
     "output_type": "stream",
     "text": [
      "Creating parquet from Arrow format: 100%|██████████| 1/1 [00:00<00:00, 1533.57ba/s]\n",
      "Creating parquet from Arrow format: 100%|██████████| 17/17 [00:00<00:00, 335.59ba/s]\n",
      "Creating parquet from Arrow format: 100%|██████████| 5/5 [00:00<00:00, 397.70ba/s]\n",
      "Generating dev split: 16 examples [00:00, 3582.58 examples/s]\n",
      "Generating test split: 16160 examples [00:00, 200159.92 examples/s]\n",
      "Generating validation split: 4041 examples [00:00, 166812.81 examples/s]\n"
     ]
    },
    {
     "data": {
      "text/plain": [
       "{'id': 'dev_Agri500P_1',\n",
       " 'question': 'Where can the seed washing equipment be acquired to enable oil extraction?',\n",
       " 'answer': 'The equipment for processing passion fruit pulp waste for seed purification was developed and patented by the State University of the North Fluminense (Uenf), in partnership with Embrapa. Therefore, if someone is interested in acquiring the aforementioned equipment, they simply need to contact the aforementioned institutions at the addresses listed in the base of this page^14,15.',\n",
       " 'context': \"This question is sourced from the book titled 'Passion Fruit', specifically found in the chapter 'Marketing and Value Addition'.\",\n",
       " 'category': 'Nutrition, Health Benefits, and Food Processing',\n",
       " 'question_type': 'multiple-choice',\n",
       " 'metadata': {'book_title': 'Passion Fruit',\n",
       "  'chapter_title': 'Marketing and Value Addition',\n",
       "  'language': 'English',\n",
       "  'license': '',\n",
       "  'source': '500 Perguntas e 500 Respostas: Maracujá'}}"
      ]
     },
     "execution_count": 326,
     "metadata": {},
     "output_type": "execute_result"
    }
   ],
   "source": [
    "path = '/workdir/AGRIVQA/prova'\n",
    "split_and_save(Agri500P_rows, root_folder=path)\n",
    "dataset_name = 'Agri500P'\n",
    "\n",
    "dataset_dict = load_dataset('parquet', data_files={\n",
    "    'dev': f'{path}/{dataset_name}/dev-00000-of-00001.parquet',\n",
    "    'test': f'{path}/{dataset_name}/test-00000-of-00001.parquet',\n",
    "    'validation': f'{path}/{dataset_name}/validation-00000-of-00001.parquet'\n",
    "})\n",
    "\n",
    "dataset_dict['dev'][0]"
   ]
  },
  {
   "cell_type": "markdown",
   "metadata": {},
   "source": [
    "### EPPO\n",
    "\n"
   ]
  },
  {
   "cell_type": "code",
   "execution_count": 6,
   "metadata": {},
   "outputs": [],
   "source": [
    "task_name = 'EPPO'\n",
    "\n",
    "dataset_name = \"parquet\"\n",
    "data_files = {\n",
    "    \"dev\": \"/workdir/important_datasets/AGRIVQA/\"+task_name+\"/dev-00000-of-00001.parquet\",\n",
    "    \"test\": \"/workdir/important_datasets/AGRIVQA/\"+task_name+\"/test-00000-of-00001.parquet\",\n",
    "    \"validation\": \"/workdir/important_datasets/AGRIVQA/\"+task_name+\"/validation-00000-of-00001.parquet\"\n",
    "}\n",
    "\n",
    "dataset = load_dataset(dataset_name,data_files=data_files)\n",
    "\n",
    "EPPO_dataset = concatenate_datasets([dataset['dev'], dataset['test'], dataset['validation']])\n"
   ]
  },
  {
   "cell_type": "code",
   "execution_count": 10,
   "metadata": {},
   "outputs": [],
   "source": [
    "template_dict = {\n",
    "    'common_name':'Common Name',\n",
    "    'damage_cause': 'Taxonomy',\n",
    "    'genus_name': 'Taxonomy',\n",
    "    'growth_stage': 'Growth Stage',\n",
    "    'scientific_name': 'Taxonomy',\n",
    "    'weed_identification': 'Taxonomy'\n",
    "}\n",
    "\n",
    "kingdoms = [\n",
    " 'Archaea',\n",
    " 'Bacteria',\n",
    " 'Chromista',\n",
    " 'Viruses_and_viroids',\n",
    " 'Fungi',\n",
    " 'Protista',\n",
    " 'Plantae',\n",
    " 'Animalia']\n",
    "\n",
    "kingdom_eppo_dict = { k: list(load_json(f'/workdir/important_datasets/EPPO_to_GBIF/{k}_EPPO_to_GBIF.json')) for k in kingdoms}"
   ]
  },
  {
   "cell_type": "code",
   "execution_count": 11,
   "metadata": {},
   "outputs": [],
   "source": [
    "EPPO_row = {\n",
    "    \"id\": \"EPPO\",\n",
    "    \"question\": \"{question}\",\n",
    "    \"options\": [\"{option_1}\", \"{option_2}\", \"{option_3}\", \"{option_4}\"],  # List of options\n",
    "    \"answer\": \"{answer}\",\n",
    "    \"image\": \"{image_path}\",  # Path to the image\n",
    "    \"taxon_rank\": 0,  # Integer\n",
    "    \"options_difficulty\": 0,  # Integer\n",
    "    \"kingdom\": \"{kingdom}\",  # Example: Plantae, Animalia\n",
    "    \"category\": \"{category}\",  # Example: Taxonomy, Growth Stage, Common Name\n",
    "    \"question_template\": \"{question_template}\",  # Example: scientific_name, common_name\n",
    "    \"question_type\": \"{question_type}\",  # Example: multiple choice, open ended\n",
    "    \"metadata\":\n",
    "        {\n",
    "            \"source\": \"{source}\",\n",
    "            \"license\": \"{license}\",\n",
    "            \"image_url\": \"{image_url}\",\n",
    "            \"language\": \"{language}\",\n",
    "            \"verbose_answer\": \"{verbose_answer}\",\n",
    "            \"eppo_code\": \"{eppo_code}\",\n",
    "            \"gbif_key\": \"{gbif_key}\",\n",
    "            \"common_name_language\": \"{common_name_language}\"\n",
    "        }\n",
    "}"
   ]
  },
  {
   "cell_type": "code",
   "execution_count": 12,
   "metadata": {},
   "outputs": [
    {
     "name": "stderr",
     "output_type": "stream",
     "text": [
      "100%|██████████| 20648/20648 [02:27<00:00, 139.70it/s]\n"
     ]
    }
   ],
   "source": [
    "EPPO_rows = []\n",
    "\n",
    "OPTIONS = ['A','B','C','D','E']\n",
    "\n",
    "for q in tqdm(EPPO_dataset):\n",
    "    EPPO_row['id'] = f\"EPPO\"\n",
    "    EPPO_row['question'] = q['question']\n",
    "        \n",
    "    # Placeholder for explanation or any additional info\n",
    "    EPPO_row['answer'] = q['answer']  # Assuming the correct answer is in q.correct_answer\n",
    "    \n",
    "    options = eval(q['options'])\n",
    "    if len(options) == 0:\n",
    "            options = []\n",
    "    EPPO_row['options'] = options\n",
    "    \n",
    "    EPPO_row['image'] = q['image_1']\n",
    "    EPPO_row['options_difficulty'] = int(q['options_difficulty'])\n",
    "    # Metadata section: Assuming placeholders for now\n",
    "    metadata = eval(q['metadata'])\n",
    "    \n",
    "    kingdom = metadata['kingdom']\n",
    "    EPPO_row['kingdom'] = kingdom\n",
    "    EPPO_row['taxon_rank'] = kingdom_eppo_dict[kingdom].index(metadata['eppo_code'])\n",
    "    \n",
    "    # Placeholder for category if applicable, adjust based on your requirements\n",
    "    EPPO_row[\"question_template\"] = metadata['tag']\n",
    "    \n",
    "    EPPO_row['category'] = template_dict[metadata['tag']]  # Replace with actual category logic if needed\n",
    "    \n",
    "    \n",
    "    #EPPO_row['context'] = #f\"This question is sourced from the book titled '{book_title}', specifically found in the chapter '{chapter_title}'.\"\n",
    "    \n",
    "    # Placeholder for question_type logic: assuming it's a multiple-choice or open-ended type\n",
    "    if options:\n",
    "        EPPO_row['question_type'] = 'multiple-choice'\n",
    "    else:\n",
    "        EPPO_row['question_type'] = 'open-ended'\n",
    "    \n",
    "    \n",
    "    EPPO_row['metadata']['source'] = 'EPPO'  # Replace with actual source if needed\n",
    "    EPPO_row['metadata']['license'] = metadata['license']\n",
    "    EPPO_row['metadata']['language'] = metadata['language']\n",
    "    EPPO_row['metadata']['image_url'] = metadata['url']\n",
    "    EPPO_row['metadata']['verbose_answer'] = options[OPTIONS.index(q['answer'])]\n",
    "    EPPO_row['metadata']['eppo_code'] = metadata['eppo_code']\n",
    "    EPPO_row['metadata']['gbif_key'] = metadata['gbif_key']\n",
    "    EPPO_row['metadata']['common_name_language'] = metadata['common_name_language']\n",
    "    # Appending the row to rows\n",
    "    EPPO_rows.append(deepcopy(EPPO_row))"
   ]
  },
  {
   "cell_type": "code",
   "execution_count": 15,
   "metadata": {},
   "outputs": [],
   "source": [
    "d = Dataset.from_list(EPPO_rows)"
   ]
  },
  {
   "cell_type": "code",
   "execution_count": 16,
   "metadata": {},
   "outputs": [
    {
     "data": {
      "text/plain": [
       "Dataset({\n",
       "    features: ['id', 'question', 'options', 'answer', 'image', 'taxon_rank', 'options_difficulty', 'kingdom', 'category', 'question_template', 'question_type', 'metadata'],\n",
       "    num_rows: 20648\n",
       "})"
      ]
     },
     "execution_count": 16,
     "metadata": {},
     "output_type": "execute_result"
    }
   ],
   "source": [
    "d"
   ]
  },
  {
   "cell_type": "code",
   "execution_count": 13,
   "metadata": {},
   "outputs": [
    {
     "ename": "KeyboardInterrupt",
     "evalue": "",
     "output_type": "error",
     "traceback": [
      "\u001b[0;31m---------------------------------------------------------------------------\u001b[0m",
      "\u001b[0;31mKeyboardInterrupt\u001b[0m                         Traceback (most recent call last)",
      "Cell \u001b[0;32mIn[13], line 2\u001b[0m\n\u001b[1;32m      1\u001b[0m root_folder \u001b[38;5;241m=\u001b[39m \u001b[38;5;124m'\u001b[39m\u001b[38;5;124m/workdir/important_datasets/AGRIVQA_v2\u001b[39m\u001b[38;5;124m'\u001b[39m\n\u001b[0;32m----> 2\u001b[0m \u001b[43msplit_and_save\u001b[49m\u001b[43m(\u001b[49m\u001b[43mEPPO_rows\u001b[49m\u001b[43m,\u001b[49m\u001b[43m \u001b[49m\u001b[43mroot_folder\u001b[49m\u001b[38;5;241;43m=\u001b[39;49m\u001b[43mroot_folder\u001b[49m\u001b[43m,\u001b[49m\u001b[43m \u001b[49m\u001b[43mmax_len\u001b[49m\u001b[38;5;241;43m=\u001b[39;49m\u001b[38;5;241;43m1000\u001b[39;49m\u001b[43m)\u001b[49m\n\u001b[1;32m      3\u001b[0m dataset_name \u001b[38;5;241m=\u001b[39m \u001b[38;5;124m'\u001b[39m\u001b[38;5;124mEPPO\u001b[39m\u001b[38;5;124m'\u001b[39m\n\u001b[1;32m      5\u001b[0m dataset_dict \u001b[38;5;241m=\u001b[39m load_dataset(\u001b[38;5;124m'\u001b[39m\u001b[38;5;124mparquet\u001b[39m\u001b[38;5;124m'\u001b[39m, data_files\u001b[38;5;241m=\u001b[39m{\n\u001b[1;32m      6\u001b[0m     \u001b[38;5;124m'\u001b[39m\u001b[38;5;124mdev\u001b[39m\u001b[38;5;124m'\u001b[39m: \u001b[38;5;124mf\u001b[39m\u001b[38;5;124m'\u001b[39m\u001b[38;5;132;01m{\u001b[39;00mroot_folder\u001b[38;5;132;01m}\u001b[39;00m\u001b[38;5;124m/\u001b[39m\u001b[38;5;132;01m{\u001b[39;00mdataset_name\u001b[38;5;132;01m}\u001b[39;00m\u001b[38;5;124m/dev-00000-of-00001.parquet\u001b[39m\u001b[38;5;124m'\u001b[39m,\n\u001b[1;32m      7\u001b[0m     \u001b[38;5;124m'\u001b[39m\u001b[38;5;124mtest\u001b[39m\u001b[38;5;124m'\u001b[39m: \u001b[38;5;124mf\u001b[39m\u001b[38;5;124m'\u001b[39m\u001b[38;5;132;01m{\u001b[39;00mroot_folder\u001b[38;5;132;01m}\u001b[39;00m\u001b[38;5;124m/\u001b[39m\u001b[38;5;132;01m{\u001b[39;00mdataset_name\u001b[38;5;132;01m}\u001b[39;00m\u001b[38;5;124m/test-00000-of-00001.parquet\u001b[39m\u001b[38;5;124m'\u001b[39m,\n\u001b[1;32m      8\u001b[0m     \u001b[38;5;124m'\u001b[39m\u001b[38;5;124mvalidation\u001b[39m\u001b[38;5;124m'\u001b[39m: \u001b[38;5;124mf\u001b[39m\u001b[38;5;124m'\u001b[39m\u001b[38;5;132;01m{\u001b[39;00mroot_folder\u001b[38;5;132;01m}\u001b[39;00m\u001b[38;5;124m/\u001b[39m\u001b[38;5;132;01m{\u001b[39;00mdataset_name\u001b[38;5;132;01m}\u001b[39;00m\u001b[38;5;124m/validation-00000-of-00001.parquet\u001b[39m\u001b[38;5;124m'\u001b[39m\n\u001b[1;32m      9\u001b[0m })\n",
      "Cell \u001b[0;32mIn[5], line 37\u001b[0m, in \u001b[0;36msplit_and_save\u001b[0;34m(all_rows, root_folder, max_len, random_seed)\u001b[0m\n\u001b[1;32m     34\u001b[0m \u001b[38;5;28;01mdef\u001b[39;00m \u001b[38;5;21msplit_and_save\u001b[39m(all_rows, root_folder\u001b[38;5;241m=\u001b[39m\u001b[38;5;124m'\u001b[39m\u001b[38;5;124m/workdir/AGRIVQA/prova/\u001b[39m\u001b[38;5;124m'\u001b[39m, max_len\u001b[38;5;241m=\u001b[39m\u001b[38;5;28;01mNone\u001b[39;00m, random_seed\u001b[38;5;241m=\u001b[39mRANDOM_SEED):\n\u001b[1;32m     35\u001b[0m     dataset_name \u001b[38;5;241m=\u001b[39m all_rows[\u001b[38;5;241m0\u001b[39m][\u001b[38;5;124m'\u001b[39m\u001b[38;5;124mid\u001b[39m\u001b[38;5;124m'\u001b[39m]\n\u001b[0;32m---> 37\u001b[0m     split_dict \u001b[38;5;241m=\u001b[39m \u001b[43mcreate_split\u001b[49m\u001b[43m(\u001b[49m\u001b[43mall_rows\u001b[49m\u001b[43m,\u001b[49m\u001b[43m \u001b[49m\u001b[43mrandom_seed\u001b[49m\u001b[38;5;241;43m=\u001b[39;49m\u001b[43mrandom_seed\u001b[49m\u001b[43m)\u001b[49m\n\u001b[1;32m     38\u001b[0m     split_dict \u001b[38;5;241m=\u001b[39m rename_split(split_dict)\n\u001b[1;32m     40\u001b[0m     \u001b[38;5;28;01mfor\u001b[39;00m split \u001b[38;5;129;01min\u001b[39;00m split_dict:\n",
      "Cell \u001b[0;32mIn[5], line 8\u001b[0m, in \u001b[0;36mcreate_split\u001b[0;34m(data, dev_size, test_size_ratio, random_seed)\u001b[0m\n\u001b[1;32m      6\u001b[0m random\u001b[38;5;241m.\u001b[39mseed(random_seed)\n\u001b[1;32m      7\u001b[0m \u001b[38;5;66;03m# Shuffle the data for randomness\u001b[39;00m\n\u001b[0;32m----> 8\u001b[0m data \u001b[38;5;241m=\u001b[39m \u001b[43mdeepcopy\u001b[49m\u001b[43m(\u001b[49m\u001b[43mdata\u001b[49m\u001b[43m)\u001b[49m\n\u001b[1;32m      9\u001b[0m random\u001b[38;5;241m.\u001b[39mshuffle(data)\n\u001b[1;32m     11\u001b[0m \u001b[38;5;66;03m# Split the data into dev, test, and validation\u001b[39;00m\n",
      "File \u001b[0;32m~/miniconda3/lib/python3.10/copy.py:146\u001b[0m, in \u001b[0;36mdeepcopy\u001b[0;34m(x, memo, _nil)\u001b[0m\n\u001b[1;32m    144\u001b[0m copier \u001b[38;5;241m=\u001b[39m _deepcopy_dispatch\u001b[38;5;241m.\u001b[39mget(\u001b[38;5;28mcls\u001b[39m)\n\u001b[1;32m    145\u001b[0m \u001b[38;5;28;01mif\u001b[39;00m copier \u001b[38;5;129;01mis\u001b[39;00m \u001b[38;5;129;01mnot\u001b[39;00m \u001b[38;5;28;01mNone\u001b[39;00m:\n\u001b[0;32m--> 146\u001b[0m     y \u001b[38;5;241m=\u001b[39m \u001b[43mcopier\u001b[49m\u001b[43m(\u001b[49m\u001b[43mx\u001b[49m\u001b[43m,\u001b[49m\u001b[43m \u001b[49m\u001b[43mmemo\u001b[49m\u001b[43m)\u001b[49m\n\u001b[1;32m    147\u001b[0m \u001b[38;5;28;01melse\u001b[39;00m:\n\u001b[1;32m    148\u001b[0m     \u001b[38;5;28;01mif\u001b[39;00m \u001b[38;5;28missubclass\u001b[39m(\u001b[38;5;28mcls\u001b[39m, \u001b[38;5;28mtype\u001b[39m):\n",
      "File \u001b[0;32m~/miniconda3/lib/python3.10/copy.py:206\u001b[0m, in \u001b[0;36m_deepcopy_list\u001b[0;34m(x, memo, deepcopy)\u001b[0m\n\u001b[1;32m    204\u001b[0m append \u001b[38;5;241m=\u001b[39m y\u001b[38;5;241m.\u001b[39mappend\n\u001b[1;32m    205\u001b[0m \u001b[38;5;28;01mfor\u001b[39;00m a \u001b[38;5;129;01min\u001b[39;00m x:\n\u001b[0;32m--> 206\u001b[0m     append(\u001b[43mdeepcopy\u001b[49m\u001b[43m(\u001b[49m\u001b[43ma\u001b[49m\u001b[43m,\u001b[49m\u001b[43m \u001b[49m\u001b[43mmemo\u001b[49m\u001b[43m)\u001b[49m)\n\u001b[1;32m    207\u001b[0m \u001b[38;5;28;01mreturn\u001b[39;00m y\n",
      "File \u001b[0;32m~/miniconda3/lib/python3.10/copy.py:146\u001b[0m, in \u001b[0;36mdeepcopy\u001b[0;34m(x, memo, _nil)\u001b[0m\n\u001b[1;32m    144\u001b[0m copier \u001b[38;5;241m=\u001b[39m _deepcopy_dispatch\u001b[38;5;241m.\u001b[39mget(\u001b[38;5;28mcls\u001b[39m)\n\u001b[1;32m    145\u001b[0m \u001b[38;5;28;01mif\u001b[39;00m copier \u001b[38;5;129;01mis\u001b[39;00m \u001b[38;5;129;01mnot\u001b[39;00m \u001b[38;5;28;01mNone\u001b[39;00m:\n\u001b[0;32m--> 146\u001b[0m     y \u001b[38;5;241m=\u001b[39m \u001b[43mcopier\u001b[49m\u001b[43m(\u001b[49m\u001b[43mx\u001b[49m\u001b[43m,\u001b[49m\u001b[43m \u001b[49m\u001b[43mmemo\u001b[49m\u001b[43m)\u001b[49m\n\u001b[1;32m    147\u001b[0m \u001b[38;5;28;01melse\u001b[39;00m:\n\u001b[1;32m    148\u001b[0m     \u001b[38;5;28;01mif\u001b[39;00m \u001b[38;5;28missubclass\u001b[39m(\u001b[38;5;28mcls\u001b[39m, \u001b[38;5;28mtype\u001b[39m):\n",
      "File \u001b[0;32m~/miniconda3/lib/python3.10/copy.py:231\u001b[0m, in \u001b[0;36m_deepcopy_dict\u001b[0;34m(x, memo, deepcopy)\u001b[0m\n\u001b[1;32m    229\u001b[0m memo[\u001b[38;5;28mid\u001b[39m(x)] \u001b[38;5;241m=\u001b[39m y\n\u001b[1;32m    230\u001b[0m \u001b[38;5;28;01mfor\u001b[39;00m key, value \u001b[38;5;129;01min\u001b[39;00m x\u001b[38;5;241m.\u001b[39mitems():\n\u001b[0;32m--> 231\u001b[0m     y[deepcopy(key, memo)] \u001b[38;5;241m=\u001b[39m \u001b[43mdeepcopy\u001b[49m\u001b[43m(\u001b[49m\u001b[43mvalue\u001b[49m\u001b[43m,\u001b[49m\u001b[43m \u001b[49m\u001b[43mmemo\u001b[49m\u001b[43m)\u001b[49m\n\u001b[1;32m    232\u001b[0m \u001b[38;5;28;01mreturn\u001b[39;00m y\n",
      "File \u001b[0;32m~/miniconda3/lib/python3.10/copy.py:172\u001b[0m, in \u001b[0;36mdeepcopy\u001b[0;34m(x, memo, _nil)\u001b[0m\n\u001b[1;32m    170\u001b[0m                 y \u001b[38;5;241m=\u001b[39m x\n\u001b[1;32m    171\u001b[0m             \u001b[38;5;28;01melse\u001b[39;00m:\n\u001b[0;32m--> 172\u001b[0m                 y \u001b[38;5;241m=\u001b[39m \u001b[43m_reconstruct\u001b[49m\u001b[43m(\u001b[49m\u001b[43mx\u001b[49m\u001b[43m,\u001b[49m\u001b[43m \u001b[49m\u001b[43mmemo\u001b[49m\u001b[43m,\u001b[49m\u001b[43m \u001b[49m\u001b[38;5;241;43m*\u001b[39;49m\u001b[43mrv\u001b[49m\u001b[43m)\u001b[49m\n\u001b[1;32m    174\u001b[0m \u001b[38;5;66;03m# If is its own copy, don't memoize.\u001b[39;00m\n\u001b[1;32m    175\u001b[0m \u001b[38;5;28;01mif\u001b[39;00m y \u001b[38;5;129;01mis\u001b[39;00m \u001b[38;5;129;01mnot\u001b[39;00m x:\n",
      "File \u001b[0;32m~/miniconda3/lib/python3.10/copy.py:273\u001b[0m, in \u001b[0;36m_reconstruct\u001b[0;34m(x, memo, func, args, state, listiter, dictiter, deepcopy)\u001b[0m\n\u001b[1;32m    271\u001b[0m     state \u001b[38;5;241m=\u001b[39m deepcopy(state, memo)\n\u001b[1;32m    272\u001b[0m \u001b[38;5;28;01mif\u001b[39;00m \u001b[38;5;28mhasattr\u001b[39m(y, \u001b[38;5;124m'\u001b[39m\u001b[38;5;124m__setstate__\u001b[39m\u001b[38;5;124m'\u001b[39m):\n\u001b[0;32m--> 273\u001b[0m     \u001b[43my\u001b[49m\u001b[38;5;241;43m.\u001b[39;49m\u001b[43m__setstate__\u001b[49m\u001b[43m(\u001b[49m\u001b[43mstate\u001b[49m\u001b[43m)\u001b[49m\n\u001b[1;32m    274\u001b[0m \u001b[38;5;28;01melse\u001b[39;00m:\n\u001b[1;32m    275\u001b[0m     \u001b[38;5;28;01mif\u001b[39;00m \u001b[38;5;28misinstance\u001b[39m(state, \u001b[38;5;28mtuple\u001b[39m) \u001b[38;5;129;01mand\u001b[39;00m \u001b[38;5;28mlen\u001b[39m(state) \u001b[38;5;241m==\u001b[39m \u001b[38;5;241m2\u001b[39m:\n",
      "File \u001b[0;32m~/miniconda3/lib/python3.10/site-packages/PIL/ImageFile.py:166\u001b[0m, in \u001b[0;36mImageFile.__setstate__\u001b[0;34m(self, state)\u001b[0m\n\u001b[1;32m    164\u001b[0m \u001b[38;5;28;01mdef\u001b[39;00m \u001b[38;5;21m__setstate__\u001b[39m(\u001b[38;5;28mself\u001b[39m, state):\n\u001b[1;32m    165\u001b[0m     \u001b[38;5;28mself\u001b[39m\u001b[38;5;241m.\u001b[39mtile \u001b[38;5;241m=\u001b[39m []\n\u001b[0;32m--> 166\u001b[0m     \u001b[38;5;28;43msuper\u001b[39;49m\u001b[43m(\u001b[49m\u001b[43m)\u001b[49m\u001b[38;5;241;43m.\u001b[39;49m\u001b[43m__setstate__\u001b[49m\u001b[43m(\u001b[49m\u001b[43mstate\u001b[49m\u001b[43m)\u001b[49m\n",
      "File \u001b[0;32m~/miniconda3/lib/python3.10/site-packages/PIL/Image.py:770\u001b[0m, in \u001b[0;36mImage.__setstate__\u001b[0;34m(self, state)\u001b[0m\n\u001b[1;32m    768\u001b[0m \u001b[38;5;28;01mif\u001b[39;00m mode \u001b[38;5;129;01min\u001b[39;00m (\u001b[38;5;124m\"\u001b[39m\u001b[38;5;124mL\u001b[39m\u001b[38;5;124m\"\u001b[39m, \u001b[38;5;124m\"\u001b[39m\u001b[38;5;124mLA\u001b[39m\u001b[38;5;124m\"\u001b[39m, \u001b[38;5;124m\"\u001b[39m\u001b[38;5;124mP\u001b[39m\u001b[38;5;124m\"\u001b[39m, \u001b[38;5;124m\"\u001b[39m\u001b[38;5;124mPA\u001b[39m\u001b[38;5;124m\"\u001b[39m) \u001b[38;5;129;01mand\u001b[39;00m palette:\n\u001b[1;32m    769\u001b[0m     \u001b[38;5;28mself\u001b[39m\u001b[38;5;241m.\u001b[39mputpalette(palette)\n\u001b[0;32m--> 770\u001b[0m \u001b[38;5;28;43mself\u001b[39;49m\u001b[38;5;241;43m.\u001b[39;49m\u001b[43mfrombytes\u001b[49m\u001b[43m(\u001b[49m\u001b[43mdata\u001b[49m\u001b[43m)\u001b[49m\n",
      "File \u001b[0;32m~/miniconda3/lib/python3.10/site-packages/PIL/Image.py:876\u001b[0m, in \u001b[0;36mImage.frombytes\u001b[0;34m(self, data, decoder_name, *args)\u001b[0m\n\u001b[1;32m    874\u001b[0m d \u001b[38;5;241m=\u001b[39m _getdecoder(\u001b[38;5;28mself\u001b[39m\u001b[38;5;241m.\u001b[39mmode, decoder_name, decoder_args)\n\u001b[1;32m    875\u001b[0m d\u001b[38;5;241m.\u001b[39msetimage(\u001b[38;5;28mself\u001b[39m\u001b[38;5;241m.\u001b[39mim)\n\u001b[0;32m--> 876\u001b[0m s \u001b[38;5;241m=\u001b[39m \u001b[43md\u001b[49m\u001b[38;5;241;43m.\u001b[39;49m\u001b[43mdecode\u001b[49m\u001b[43m(\u001b[49m\u001b[43mdata\u001b[49m\u001b[43m)\u001b[49m\n\u001b[1;32m    878\u001b[0m \u001b[38;5;28;01mif\u001b[39;00m s[\u001b[38;5;241m0\u001b[39m] \u001b[38;5;241m>\u001b[39m\u001b[38;5;241m=\u001b[39m \u001b[38;5;241m0\u001b[39m:\n\u001b[1;32m    879\u001b[0m     msg \u001b[38;5;241m=\u001b[39m \u001b[38;5;124m\"\u001b[39m\u001b[38;5;124mnot enough image data\u001b[39m\u001b[38;5;124m\"\u001b[39m\n",
      "\u001b[0;31mKeyboardInterrupt\u001b[0m: "
     ]
    }
   ],
   "source": [
    "root_folder = '/workdir/important_datasets/AGRIVQA_v2'\n",
    "split_and_save(EPPO_rows, root_folder=root_folder, max_len=1000)\n",
    "dataset_name = 'EPPO'\n",
    "\n",
    "dataset_dict = load_dataset('parquet', data_files={\n",
    "    'dev': f'{root_folder}/{dataset_name}/dev-00000-of-00001.parquet',\n",
    "    'test': f'{root_folder}/{dataset_name}/test-00000-of-00001.parquet',\n",
    "    'validation': f'{root_folder}/{dataset_name}/validation-00000-of-00001.parquet'\n",
    "})\n",
    "\n",
    "dataset_dict['dev'][0]"
   ]
  },
  {
   "cell_type": "markdown",
   "metadata": {},
   "source": [
    "### GBIF"
   ]
  },
  {
   "cell_type": "code",
   "execution_count": 368,
   "metadata": {},
   "outputs": [
    {
     "name": "stderr",
     "output_type": "stream",
     "text": [
      "Generating dev split: 16 examples [00:00, 191.98 examples/s]\n",
      "Generating test split: 9 examples [00:00, 158.35 examples/s]\n",
      "Generating validation split: 75 examples [00:00, 335.71 examples/s]\n"
     ]
    }
   ],
   "source": [
    "task_name = 'Identification'\n",
    "\n",
    "dataset_name = \"parquet\"\n",
    "data_files = {\n",
    "    \"dev\": \"/workdir/important_datasets/AGRIVQA/\"+task_name+\"/dev-00000-of-00001.parquet\",\n",
    "    \"test\": \"/workdir/important_datasets/AGRIVQA/\"+task_name+\"/test-00000-of-00001.parquet\",\n",
    "    \"validation\": \"/workdir/important_datasets/AGRIVQA/\"+task_name+\"/validation-00000-of-00001.parquet\"\n",
    "}\n",
    "\n",
    "dataset = load_dataset(dataset_name,data_files=data_files)\n",
    "\n",
    "EPPO_dataset = concatenate_datasets([dataset['dev'], dataset['test'], dataset['validation']])\n"
   ]
  },
  {
   "cell_type": "code",
   "execution_count": null,
   "metadata": {},
   "outputs": [],
   "source": [
    "template_dict = {\n",
    "    'common_name':'Common Name',\n",
    "    'damage_cause': 'Taxonomy',\n",
    "    'genus_name': 'Taxonomy',\n",
    "    'growth_stage': 'Growth Stage',\n",
    "    'scientific_name': 'Taxonomy',\n",
    "    'weed_identification': 'Taxonomy' \n",
    "}"
   ]
  },
  {
   "cell_type": "code",
   "execution_count": null,
   "metadata": {},
   "outputs": [],
   "source": [
    "kingdoms = [\n",
    " 'Archaea',\n",
    " 'Bacteria',\n",
    " 'Chromista',\n",
    " 'Viruses_and_viroids',\n",
    " 'Fungi',\n",
    " 'Protista',\n",
    " 'Plantae',\n",
    " 'Animalia']\n",
    "kingdom_eppo_dict = { k: list(load_json(f'/workdir/important_datasets/EPPO_to_GBIF/{k}_EPPO_to_GBIF.json')) for k in kingdoms}"
   ]
  },
  {
   "cell_type": "code",
   "execution_count": null,
   "metadata": {},
   "outputs": [
    {
     "data": {
      "text/plain": [
       "{'id': 'dev__EPPO_1',\n",
       " 'question': 'What is the common name in English of this plant? <image 1>',\n",
       " 'options': \"['Indian ginseng', 'violet tube flower', 'sticky tailflower', 'tomato']\",\n",
       " 'explanation': None,\n",
       " 'image_1': <PIL.JpegImagePlugin.JpegImageFile image mode=RGB size=1024x1365>,\n",
       " 'image_2': None,\n",
       " 'image_3': None,\n",
       " 'image_4': None,\n",
       " 'image_5': None,\n",
       " 'img_type': \"['Picture']\",\n",
       " 'answer': 'D',\n",
       " 'options_difficulty': '4',\n",
       " 'question_type': 'multiple-choice',\n",
       " 'subfield': 'Plantae / common_name',\n",
       " 'metadata': '{\"source\": \"EPPO\", \"author\": \"EPPO\", \"license\": \"\", \"url\": \"https://gd.eppo.int/media/data/taxon/L/LYPES/pics/1024x0/4984.jpg\", \"language\": \"English\", \"verbose_answer\": \"{verbose_answer}\", \"eppo_code\": \"LYPES\", \"gbif_key\": \"2930137\", \"kingdom\": \"Plantae\", \"tag\": \"common_name\", \"common_name_language\": \"English\"}'}"
      ]
     },
     "metadata": {},
     "output_type": "display_data"
    }
   ],
   "source": [
    "EPPO_dataset[0]"
   ]
  },
  {
   "cell_type": "code",
   "execution_count": null,
   "metadata": {},
   "outputs": [],
   "source": [
    "EPPO_row = {\n",
    "    \"id\": \"EPPO\",\n",
    "    \"question\": \"{question}\",\n",
    "    \"options\": [\"{option_1}\", \"{option_2}\", \"{option_3}\", \"{option_4}\"],  # List of options\n",
    "    \"answer\": \"{answer}\",\n",
    "    \"image\": \"{image_path}\",  # Path to the image\n",
    "    \"taxon_rank\": 0,  # Integer\n",
    "    \"options_difficulty\": 0,  # Integer\n",
    "    \"kingdom\": \"{kingdom}\",  # Example: Plantae, Animalia\n",
    "    \"category\": \"{category}\",  # Example: Taxonomy, Growth Stage, Common Name\n",
    "    \"question_template\": \"{question_template}\",  # Example: scientific_name, common_name\n",
    "    \"question_type\": \"{question_type}\",  # Example: multiple choice, open ended\n",
    "    \"metadata\":\n",
    "        {\n",
    "            \"source\": \"{source}\",\n",
    "            \"license\": \"{license}\",\n",
    "            \"image_url\": \"{image_url}\",\n",
    "            \"language\": \"{language}\",\n",
    "            \"verbose_answer\": \"{verbose_answer}\",\n",
    "            \"eppo_code\": \"{eppo_code}\",\n",
    "            \"gbif_key\": \"{gbif_key}\",\n",
    "            \"common_name_language\": \"{common_name_language}\"\n",
    "        }\n",
    "}"
   ]
  },
  {
   "cell_type": "code",
   "execution_count": null,
   "metadata": {},
   "outputs": [
    {
     "name": "stderr",
     "output_type": "stream",
     "text": [
      "100%|██████████| 20648/20648 [02:43<00:00, 126.65it/s]\n"
     ]
    }
   ],
   "source": [
    "EPPO_rows = []\n",
    "\n",
    "OPTIONS = ['A','B','C','D','E']\n",
    "\n",
    "for q in tqdm(EPPO_dataset):\n",
    "    EPPO_row['id'] = f\"EPPO\"\n",
    "    EPPO_row['question'] = q['question']\n",
    "        \n",
    "    # Placeholder for explanation or any additional info\n",
    "    EPPO_row['answer'] = q['answer']  # Assuming the correct answer is in q.correct_answer\n",
    "    \n",
    "    options = eval(q['options'])\n",
    "    if len(options) == 0:\n",
    "            options = []\n",
    "    EPPO_row['options'] = options\n",
    "    \n",
    "    EPPO_row['image'] = q['image_1']\n",
    "    EPPO_row['options_difficulty'] = int(q['options_difficulty'])\n",
    "    # Metadata section: Assuming placeholders for now\n",
    "    metadata = eval(q['metadata'])\n",
    "    \n",
    "    kingdom = metadata['kingdom']\n",
    "    EPPO_row['kingdom'] = kingdom\n",
    "    EPPO_row['taxon_rank'] = kingdom_eppo_dict[kingdom].index(metadata['eppo_code'])\n",
    "    \n",
    "    # Placeholder for category if applicable, adjust based on your requirements\n",
    "    EPPO_row[\"question_template\"] = metadata['tag']\n",
    "    \n",
    "    EPPO_row['category'] = template_dict[metadata['tag']]  # Replace with actual category logic if needed\n",
    "    \n",
    "    \n",
    "    #EPPO_row['context'] = #f\"This question is sourced from the book titled '{book_title}', specifically found in the chapter '{chapter_title}'.\"\n",
    "    \n",
    "    # Placeholder for question_type logic: assuming it's a multiple-choice or open-ended type\n",
    "    if options:\n",
    "        EPPO_row['question_type'] = 'multiple-choice'\n",
    "    else:\n",
    "        EPPO_row['question_type'] = 'open-ended'\n",
    "    \n",
    "    \n",
    "    EPPO_row['metadata']['source'] = 'EPPO'  # Replace with actual source if needed\n",
    "    EPPO_row['metadata']['license'] = metadata['license']\n",
    "    EPPO_row['metadata']['language'] = metadata['language']\n",
    "    EPPO_row['metadata']['image_url'] = metadata['url']\n",
    "    EPPO_row['metadata']['verbose_answer'] = options[OPTIONS.index(q['answer'])]\n",
    "    EPPO_row['metadata']['eppo_code'] = metadata['eppo_code']\n",
    "    EPPO_row['metadata']['gbif_key'] = metadata['gbif_key']\n",
    "    EPPO_row['metadata']['common_name_language'] = metadata['common_name_language']\n",
    "    # Appending the row to rows\n",
    "    EPPO_rows.append(deepcopy(EPPO_row))"
   ]
  },
  {
   "cell_type": "code",
   "execution_count": null,
   "metadata": {},
   "outputs": [
    {
     "name": "stderr",
     "output_type": "stream",
     "text": [
      "Creating parquet from Arrow format: 100%|██████████| 1/1 [00:00<00:00, 1824.40ba/s]\n",
      "Creating parquet from Arrow format: 100%|██████████| 4/4 [00:00<00:00, 567.18ba/s]\n",
      "Creating parquet from Arrow format: 100%|██████████| 1/1 [00:00<00:00, 529.65ba/s]\n",
      "Generating dev split: 16 examples [00:00, 4733.98 examples/s]\n",
      "Generating test split: 3625 examples [00:00, 321288.84 examples/s]\n",
      "Generating validation split: 907 examples [00:00, 206538.56 examples/s]\n"
     ]
    },
    {
     "data": {
      "text/plain": [
       "{'id': 'dev_AgriExam_1',\n",
       " 'question': 'Which of the following states is the largest producer of annual flowers’ seeds?',\n",
       " 'options': ['Punjab', 'Karnataka', 'Tamil Nadu', 'Kerala'],\n",
       " 'answer': 'A',\n",
       " 'category': 'Horticulture and Ornamental Plants',\n",
       " 'question_type': 'multiple-choice',\n",
       " 'metadata': {'language': 'English',\n",
       "  'license': '',\n",
       "  'source': 'AgriExam',\n",
       "  'url': 'https://www.agriexam.com/horticulture-jrf-2020',\n",
       "  'verbose_answer': 'Punjab'}}"
      ]
     },
     "metadata": {},
     "output_type": "display_data"
    }
   ],
   "source": [
    "split_and_save(EPPO_rows)\n",
    "path = '/workdir/important_datasets/AGRIVQA_v2'\n",
    "dataset_name = 'EPPO'\n",
    "\n",
    "dataset_dict = load_dataset('parquet', data_files={\n",
    "    'dev': f'{path}/{dataset_name}/dev-00000-of-00001.parquet',\n",
    "    'test': f'{path}/{dataset_name}/test-00000-of-00001.parquet',\n",
    "    'validation': f'{path}/{dataset_name}/validation-00000-of-00001.parquet'\n",
    "})\n",
    "\n",
    "dataset_dict['dev'][0]"
   ]
  }
 ],
 "metadata": {
  "kernelspec": {
   "display_name": "base",
   "language": "python",
   "name": "python3"
  },
  "language_info": {
   "codemirror_mode": {
    "name": "ipython",
    "version": 3
   },
   "file_extension": ".py",
   "mimetype": "text/x-python",
   "name": "python",
   "nbconvert_exporter": "python",
   "pygments_lexer": "ipython3",
   "version": "3.10.15"
  }
 },
 "nbformat": 4,
 "nbformat_minor": 2
}
