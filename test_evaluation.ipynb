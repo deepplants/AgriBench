{
 "cells": [
  {
   "cell_type": "code",
   "execution_count": 2,
   "metadata": {},
   "outputs": [],
   "source": [
    "import os \n",
    "os.environ['CUDA_VISIBLE_DEVICES'] = '0'    "
   ]
  },
  {
   "cell_type": "code",
   "execution_count": 3,
   "metadata": {},
   "outputs": [
    {
     "name": "stderr",
     "output_type": "stream",
     "text": [
      "/root/miniconda3/lib/python3.12/site-packages/tqdm/auto.py:21: TqdmWarning: IProgress not found. Please update jupyter and ipywidgets. See https://ipywidgets.readthedocs.io/en/stable/user_install.html\n",
      "  from .autonotebook import tqdm as notebook_tqdm\n",
      "2024-12-04 16:17:32,813\tINFO util.py:154 -- Missing packages: ['ipywidgets']. Run `pip install -U ipywidgets`, then restart the notebook server for rich notebook output.\n"
     ]
    }
   ],
   "source": [
    "os.sys.path.append('/workdir/lm-evaluation-harness')\n",
    "import lm_eval\n",
    "from lm_eval.tasks import TaskManager, get_task_dict, ConfigurableTask\n",
    "from lm_eval.evaluator_utils import get_task_list\n",
    "from random import sample\n",
    "import lm_eval.utils as utils\n",
    "import yaml"
   ]
  },
  {
   "cell_type": "code",
   "execution_count": 4,
   "metadata": {},
   "outputs": [
    {
     "name": "stdout",
     "output_type": "stream",
     "text": [
      "['agrivqa_val_agriculture']\n",
      "['agrivqa_val_agriculture']\n"
     ]
    }
   ],
   "source": [
    "task_manager = TaskManager()\n",
    "tasks = ['agrivqa_val_agriculture']\n",
    "print(tasks)\n",
    "print(task_manager.match_tasks(tasks))"
   ]
  },
  {
   "cell_type": "code",
   "execution_count": 5,
   "metadata": {},
   "outputs": [
    {
     "data": {
      "text/plain": [
       "{'agrivqa_val_agriculture': ConfigurableTask(task_name=agrivqa_val_agriculture,output_type=generate_until,num_fewshot=None,num_samples=90)}"
      ]
     },
     "execution_count": 5,
     "metadata": {},
     "output_type": "execute_result"
    }
   ],
   "source": [
    "task_dict = get_task_dict(tasks, task_manager)\n",
    "task_dict"
   ]
  },
  {
   "cell_type": "code",
   "execution_count": 6,
   "metadata": {},
   "outputs": [
    {
     "data": {
      "text/plain": [
       "ConfigurableTask(task_name=agrivqa_val_agriculture,output_type=generate_until,num_fewshot=None,num_samples=90)"
      ]
     },
     "execution_count": 6,
     "metadata": {},
     "output_type": "execute_result"
    }
   ],
   "source": [
    "eval_tasks = get_task_list(task_dict)\n",
    "eval_tasks[0].task"
   ]
  },
  {
   "cell_type": "code",
   "execution_count": 7,
   "metadata": {},
   "outputs": [
    {
     "data": {
      "text/plain": [
       "TaskConfig(task='agrivqa_val_agriculture', task_alias='Identification', tag=None, dataset_path='/workdir/AGRIVQA', dataset_name='default', dataset_kwargs=None, training_split=None, validation_split='validation', test_split=None, fewshot_split=None, process_docs=None, doc_to_text=<function doc_to_text at 0x7fe2c2b7fd80>, doc_to_target='answer', doc_to_image=<function doc_to_image at 0x7fe2c2b7f560>, doc_to_choice=None, process_results=<function process_results at 0x7fe2c2bd87c0>, use_prompt=None, description='', target_delimiter=' ', fewshot_delimiter='\\n\\n', fewshot_config=None, num_fewshot=None, metric_list=[{'metric': 'acc', 'aggregation': 'mean', 'higher_is_better': True}], output_type='generate_until', generation_kwargs={'until': ['<|endoftext|>'], 'temperature': 0.0, 'do_sample': False, 'max_gen_toks': 512}, repeats=1, filter_list=None, should_decontaminate=False, doc_to_decontamination_query=None, metadata={'version': 0.0})"
      ]
     },
     "execution_count": 7,
     "metadata": {},
     "output_type": "execute_result"
    }
   ],
   "source": [
    "task = task_dict['agrivqa_val_agriculture']\n",
    "task.config"
   ]
  },
  {
   "cell_type": "code",
   "execution_count": 8,
   "metadata": {},
   "outputs": [],
   "source": [
    "from datasets import load_dataset\n",
    "\n",
    "ds = load_dataset(\"MMMU/MMMU\",\"Agriculture\")"
   ]
  },
  {
   "cell_type": "code",
   "execution_count": 11,
   "metadata": {},
   "outputs": [
    {
     "data": {
      "text/plain": [
       "'C'"
      ]
     },
     "execution_count": 11,
     "metadata": {},
     "output_type": "execute_result"
    }
   ],
   "source": [
    "ds['validation'][0]['answer']"
   ]
  }
 ],
 "metadata": {
  "kernelspec": {
   "display_name": "base",
   "language": "python",
   "name": "python3"
  },
  "language_info": {
   "codemirror_mode": {
    "name": "ipython",
    "version": 3
   },
   "file_extension": ".py",
   "mimetype": "text/x-python",
   "name": "python",
   "nbconvert_exporter": "python",
   "pygments_lexer": "ipython3",
   "version": "3.12.7"
  }
 },
 "nbformat": 4,
 "nbformat_minor": 2
}
