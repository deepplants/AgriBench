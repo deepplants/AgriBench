{
 "cells": [
  {
   "cell_type": "code",
   "execution_count": 7,
   "metadata": {},
   "outputs": [],
   "source": [
    "import json"
   ]
  },
  {
   "cell_type": "code",
   "execution_count": 8,
   "metadata": {},
   "outputs": [],
   "source": [
    "def read_jsonl(file_path):\n",
    "    \"\"\"\n",
    "    Reads a JSONL file and returns a list of JSON objects.\n",
    "\n",
    "    :param file_path: Path to the JSONL file\n",
    "    :return: List of JSON objects\n",
    "    \"\"\"\n",
    "    json_objects = []\n",
    "    \n",
    "    with open(file_path, 'r', encoding='utf-8') as file:\n",
    "        for line in file:\n",
    "            # Load each line as a JSON object and append to the list\n",
    "            json_objects.append(json.loads(line.strip()))\n",
    "    \n",
    "    return json_objects\n"
   ]
  },
  {
   "cell_type": "code",
   "execution_count": 9,
   "metadata": {},
   "outputs": [],
   "source": [
    "file_path = \"/workdir/logs/liuhaotian__llava-v1.5-7b/20241212_012402_samples_agrivqa_500P.jsonl\"\n",
    "docs = read_jsonl(file_path)"
   ]
  },
  {
   "cell_type": "code",
   "execution_count": 20,
   "metadata": {},
   "outputs": [
    {
     "name": "stdout",
     "output_type": "stream",
     "text": [
      "Yes, there is a need for special care in the final phase of gestation and parturition of heifers. In the final phase of gestation, the heifer's body prepares for parturition, and special care should be taken to ensure the safety and well-being of both the mother and the calf. This includes monitoring the heifer's health, providing adequate nutrition and water, and ensuring that the calving area is clean and dry. Additionally, it is important to have a plan in place for the calf's immediate care after birth, such as providing warmth and stimulation to promote healthy growth and development.\n"
     ]
    }
   ],
   "source": [
    "print(docs[0]['filtered_resps'][0])"
   ]
  },
  {
   "cell_type": "code",
   "execution_count": 18,
   "metadata": {},
   "outputs": [
    {
     "name": "stdout",
     "output_type": "stream",
     "text": [
      "The breeder should be mainly concerned with the nutritional status of the breeding herd, especially in Central Brazil, since the final third of gestation coincides with the dry period. Animals that suffer from food restriction during this period give birth in poor physical conditions and present a long interval from parturition to the manifestation of the first estrus.\n",
      "\n",
      "In first-calving heifers, the problem is more severe, as they not only have to nurse their calves but are also in a growth phase, presenting high nutritional requirements during the lactation phase. At the time of parturition, it is recommended to use maternity pasture,\n"
     ]
    }
   ],
   "source": [
    "print(docs[0]['target'])"
   ]
  },
  {
   "cell_type": "code",
   "execution_count": 25,
   "metadata": {},
   "outputs": [
    {
     "name": "stdout",
     "output_type": "stream",
     "text": [
      "7\n",
      "\n",
      "The assistant's response accurately identifies the need for special care during the final phase of gestation and parturition of heifers, aligning with the expert's emphasis on nutritional status and health monitoring. However, it lacks specific details regarding the nutritional challenges faced by heifers, particularly in regions like Central Brazil, where food restriction can lead to poor physical conditions at parturition. The assistant mentions the importance of monitoring health, providing nutrition, and ensuring a clean calving area, which are relevant points but do not fully capture the severity of the nutritional requirements during this critical period, especially for first-calving heifers. \n",
      "\n",
      "The assistant also does not mention the specific recommendation of using maternity pasture, which is a key agronomic practice highlighted by the expert. While the assistant's response is relevant and clear, it could benefit from more detail regarding the specific challenges and practices necessary for heifers during this phase, particularly the implications of inadequate nutrition and the importance of a proper calving environment. Overall, the response is good but could be improved by incorporating more specific information from the expert's insights.\n"
     ]
    }
   ],
   "source": [
    "print(docs[0]['gpt_eval_agrivqa_500P']['review'])"
   ]
  },
  {
   "cell_type": "code",
   "execution_count": 29,
   "metadata": {},
   "outputs": [
    {
     "name": "stdout",
     "output_type": "stream",
     "text": [
      "{\"source\": \"/workdir/important_datasets/500P_500R_json_EN/24.json\", \"author\": \"500 Perguntas e 500 Respostas\", \"license\": \"\", \"url\": \"{url}\", \"language\": \"English\", \"verbose_answer\": \"{verbose_answer}\", \"book_title\": \"Beef Cattle\", \"chapter_title\": \"Reproduction and Fattening\", \"question_id\": 11563}\n",
      "{\"source\": \"/workdir/important_datasets/500P_500R_json_EN/18.json\", \"author\": \"500 Perguntas e 500 Respostas\", \"license\": \"\", \"url\": \"{url}\", \"language\": \"English\", \"verbose_answer\": \"{verbose_answer}\", \"book_title\": \"Small Fruits\", \"chapter_title\": \"Generalities\", \"question_id\": 8518}\n",
      "{\"source\": \"/workdir/important_datasets/500P_500R_json_EN/3.json\", \"author\": \"500 Perguntas e 500 Respostas\", \"license\": \"\", \"url\": \"{url}\", \"language\": \"English\", \"verbose_answer\": \"{verbose_answer}\", \"book_title\": \"Coconut\", \"chapter_title\": \"Planting, Cultural Practices and Intercropping Cultures\", \"question_id\": 1044}\n",
      "{\"source\": \"/workdir/important_datasets/500P_500R_json_EN/8.json\", \"author\": \"500 Perguntas e 500 Respostas\", \"license\": \"\", \"url\": \"{url}\", \"language\": \"English\", \"verbose_answer\": \"{verbose_answer}\", \"book_title\": \"Cotton\", \"chapter_title\": \"Colored Cotton in Brazil and around the World\", \"question_id\": 3960}\n",
      "{\"source\": \"/workdir/important_datasets/500P_500R_json_EN/3.json\", \"author\": \"500 Perguntas e 500 Respostas\", \"license\": \"\", \"url\": \"{url}\", \"language\": \"English\", \"verbose_answer\": \"{verbose_answer}\", \"book_title\": \"Coconut\", \"chapter_title\": \"Pests\", \"question_id\": 1195}\n",
      "{\"source\": \"/workdir/important_datasets/500P_500R_json_EN/37.json\", \"author\": \"500 Perguntas e 500 Respostas\", \"license\": \"\", \"url\": \"{url}\", \"language\": \"English\", \"verbose_answer\": \"{verbose_answer}\", \"book_title\": \"Beans\", \"chapter_title\": \"Soil Fertilization\", \"question_id\": 18097}\n",
      "{\"source\": \"/workdir/important_datasets/500P_500R_json_EN/10.json\", \"author\": \"500 Perguntas e 500 Respostas\", \"license\": \"\", \"url\": \"{url}\", \"language\": \"English\", \"verbose_answer\": \"{verbose_answer}\", \"book_title\": \"Grapes\", \"chapter_title\": \"Pests\", \"question_id\": 4821}\n",
      "{\"source\": \"/workdir/important_datasets/500P_500R_json_EN/18.json\", \"author\": \"500 Perguntas e 500 Respostas\", \"license\": \"\", \"url\": \"{url}\", \"language\": \"English\", \"verbose_answer\": \"{verbose_answer}\", \"book_title\": \"Small Fruits\", \"chapter_title\": \"Propagation\", \"question_id\": 8628}\n",
      "{\"source\": \"/workdir/important_datasets/500P_500R_json_EN/29.json\", \"author\": \"500 Perguntas e 500 Respostas\", \"license\": \"\", \"url\": \"{url}\", \"language\": \"English\", \"verbose_answer\": \"{verbose_answer}\", \"book_title\": \"Corn\", \"chapter_title\": \"Varieties and Cultural Management\", \"question_id\": 14146}\n",
      "{\"source\": \"/workdir/important_datasets/500P_500R_json_EN/21.json\", \"author\": \"500 Perguntas e 500 Respostas\", \"license\": \"\", \"url\": \"{url}\", \"language\": \"English\", \"verbose_answer\": \"{verbose_answer}\", \"book_title\": \"Castor Bean\", \"chapter_title\": \"Soil Nutrition and Fertility\", \"question_id\": 10129}\n",
      "{\"source\": \"/workdir/important_datasets/500P_500R_json_EN/16.json\", \"author\": \"500 Perguntas e 500 Respostas\", \"license\": \"\", \"url\": \"{url}\", \"language\": \"English\", \"verbose_answer\": \"{verbose_answer}\", \"book_title\": \"Post-Harvest of Vegetables\", \"chapter_title\": \"Physiological Disorders\", \"question_id\": 7686}\n",
      "{\"source\": \"/workdir/important_datasets/500P_500R_json_EN/41.json\", \"author\": \"500 Perguntas e 500 Respostas\", \"license\": \"\", \"url\": \"{url}\", \"language\": \"English\", \"verbose_answer\": \"{verbose_answer}\", \"book_title\": \"Wheat\", \"chapter_title\": \"Soil Liming, Basic Fertilization and Seed Inoculation\", \"question_id\": 20128}\n",
      "{\"source\": \"/workdir/important_datasets/500P_500R_json_EN/14.json\", \"author\": \"500 Perguntas e 500 Respostas\", \"license\": \"\", \"url\": \"{url}\", \"language\": \"English\", \"verbose_answer\": \"{verbose_answer}\", \"book_title\": \"Fishing and Fish Farming in the Pantanal\", \"chapter_title\": \"Aquaculture\", \"question_id\": 6767}\n",
      "{\"source\": \"/workdir/important_datasets/500P_500R_json_EN/40.json\", \"author\": \"500 Perguntas e 500 Respostas\", \"license\": \"\", \"url\": \"{url}\", \"language\": \"English\", \"verbose_answer\": \"{verbose_answer}\", \"book_title\": \"Crop-Livestock-Forestry Integration\", \"chapter_title\": \"Practices and Management of Integration Systems Agriculture-Livestock-Forest with Forest Component for the Center-West and Southeast Regions\", \"question_id\": 19648}\n",
      "{\"source\": \"/workdir/important_datasets/500P_500R_json_EN/24.json\", \"author\": \"500 Perguntas e 500 Respostas\", \"license\": \"\", \"url\": \"{url}\", \"language\": \"English\", \"verbose_answer\": \"{verbose_answer}\", \"book_title\": \"Beef Cattle\", \"chapter_title\": \"Seedling Stage\", \"question_id\": 11528}\n",
      "{\"source\": \"/workdir/important_datasets/500P_500R_json_EN/31.json\", \"author\": \"500 Perguntas e 500 Respostas\", \"license\": \"\", \"url\": \"{url}\", \"language\": \"English\", \"verbose_answer\": \"{verbose_answer}\", \"book_title\": \"Papaya\", \"chapter_title\": \"Diseases\", \"question_id\": 15312}\n"
     ]
    }
   ],
   "source": [
    "for doc in docs:\n",
    "    print(doc['doc']['metadata'])"
   ]
  },
  {
   "cell_type": "code",
   "execution_count": 6,
   "metadata": {},
   "outputs": [
    {
     "data": {
      "text/plain": [
       "{'question': 'What is the name of this famous sight in the photo?',\n",
       " 'ans1': 'The famous sight in the photo is Diamond Head.',\n",
       " 'ans2': \"The famous sight in the photo is the Na Pali Coast, which is a scenic coastal area on the island of Kaua'i in Hawaii.\",\n",
       " 'context': 'An aerial view of Diamond Head in the Hawaiian Islands.',\n",
       " 'category': 'llava_bench_conv',\n",
       " 'review': \"10 2\\n\\nAssistant 1 provided a correct and accurate response by identifying the famous sight in the photo as Diamond Head, which aligns perfectly with the context given. The answer is relevant and directly addresses the user's question, demonstrating a clear understanding of the visual content described.\\n\\nIn contrast, Assistant 2 incorrectly identified the sight as the Na Pali Coast, which is not relevant to the context of Diamond Head. This response is inaccurate and fails to address the user's question appropriately. The lack of relevance and accuracy significantly diminishes the quality of the response, leading to a much lower score. Overall, Assistant 1's performance was exemplary, while Assistant 2's response was misleading and incorrect.\",\n",
       " 'scores': [-999, -999],\n",
       " 'eval_model': 'gpt-4o-mini-2024-07-18',\n",
       " 'content': \"[Context]\\nAn aerial view of Diamond Head in the Hawaiian Islands.\\n\\n[Question]\\nWhat is the name of this famous sight in the photo?\\n\\n[Assistant 1]\\nThe famous sight in the photo is Diamond Head.\\n\\n[End of Assistant 1]\\n\\n[Assistant 2]\\nThe famous sight in the photo is the Na Pali Coast, which is a scenic coastal area on the island of Kaua'i in Hawaii.\\n\\n[End of Assistant 2]\\n\\n[System]\\nWe would like to request your feedback on the performance of two AI assistants in response to the user question displayed above. The user asks the question on observing an image. For your reference, the visual content in the image is represented with a few sentences describing the image. \\nPlease rate the helpfulness, relevance, accuracy, level of details of their responses. Each assistant receives an overall score on a scale of 1 to 10, where a higher score indicates better overall performance.\\nPlease first output a single line containing only two values indicating the scores for Assistant 1 and 2, respectively. The two scores are separated by a space.\\nIn the subsequent line, please provide a comprehensive explanation of your evaluation, avoiding any potential bias and ensuring that the order in which the responses were presented does not affect your judgment.\\n\\n\"}"
      ]
     },
     "execution_count": 6,
     "metadata": {},
     "output_type": "execute_result"
    }
   ],
   "source": [
    "docs[0]['gpt_eval_llava_detail']"
   ]
  },
  {
   "cell_type": "code",
   "execution_count": 18,
   "metadata": {},
   "outputs": [
    {
     "name": "stdout",
     "output_type": "stream",
     "text": [
      "[Context]\n",
      "An aerial view of Diamond Head in the Hawaiian Islands.\n",
      "\n",
      "[Question]\n",
      "What is the name of this famous sight in the photo?\n",
      "\n",
      "[Assistant 1]\n",
      "The famous sight in the photo is Diamond Head.\n",
      "\n",
      "[End of Assistant 1]\n",
      "\n",
      "[Assistant 2]\n",
      "The famous sight in the photo is the Na Pali Coast, which is a scenic coastal area on the island of Kaua'i in Hawaii.\n",
      "\n",
      "[End of Assistant 2]\n",
      "\n",
      "[System]\n",
      "We would like to request your feedback on the performance of two AI assistants in response to the user question displayed above. The user asks the question on observing an image. For your reference, the visual content in the image is represented with a few sentences describing the image. \n",
      "Please rate the helpfulness, relevance, accuracy, level of details of their responses. Each assistant receives an overall score on a scale of 1 to 10, where a higher score indicates better overall performance.\n",
      "Please first output a single line containing only two values indicating the scores for Assistant 1 and 2, respectively. The two scores are separated by a space.\n",
      "In the subsequent line, please provide a comprehensive explanation of your evaluation, avoiding any potential bias and ensuring that the order in which the responses were presented does not affect your judgment.\n",
      "\n",
      "\n"
     ]
    }
   ],
   "source": [
    "print(docs[0]['gpt_eval_llava_conv']['content'])"
   ]
  },
  {
   "cell_type": "code",
   "execution_count": 21,
   "metadata": {},
   "outputs": [
    {
     "name": "stdout",
     "output_type": "stream",
     "text": [
      "[10.0, 2.0]\n"
     ]
    }
   ],
   "source": [
    "print(docs[0]['gpt_eval_llava_conv']['scores'])"
   ]
  },
  {
   "cell_type": "code",
   "execution_count": 13,
   "metadata": {},
   "outputs": [
    {
     "data": {
      "text/plain": [
       "'The famous sight in the photo is Diamond Head.'"
      ]
     },
     "execution_count": 13,
     "metadata": {},
     "output_type": "execute_result"
    }
   ],
   "source": [
    "docs[0]['doc']['gpt_answer']"
   ]
  },
  {
   "cell_type": "code",
   "execution_count": 14,
   "metadata": {},
   "outputs": [
    {
     "data": {
      "text/plain": [
       "\"The famous sight in the photo is the Na Pali Coast, which is a scenic coastal area on the island of Kaua'i in Hawaii.\""
      ]
     },
     "execution_count": 14,
     "metadata": {},
     "output_type": "execute_result"
    }
   ],
   "source": [
    "docs[0]['filtered_resps'][0]"
   ]
  },
  {
   "cell_type": "code",
   "execution_count": null,
   "metadata": {},
   "outputs": [],
   "source": []
  }
 ],
 "metadata": {
  "kernelspec": {
   "display_name": "base",
   "language": "python",
   "name": "python3"
  },
  "language_info": {
   "codemirror_mode": {
    "name": "ipython",
    "version": 3
   },
   "file_extension": ".py",
   "mimetype": "text/x-python",
   "name": "python",
   "nbconvert_exporter": "python",
   "pygments_lexer": "ipython3",
   "version": "3.12.7"
  }
 },
 "nbformat": 4,
 "nbformat_minor": 2
}
