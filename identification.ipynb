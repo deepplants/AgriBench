{
 "cells": [
  {
   "cell_type": "code",
   "execution_count": 1,
   "metadata": {},
   "outputs": [],
   "source": [
    "import pandas as pd\n",
    "from tqdm import tqdm\n",
    "import requests\n",
    "import urllib\n",
    "import random\n",
    "from multiprocessing import Pool\n",
    "import matplotlib.pyplot as plt\n",
    "from collections import Counter\n",
    "import asyncio\n",
    "import aiohttp\n",
    "import urllib.parse"
   ]
  },
  {
   "cell_type": "code",
   "execution_count": 45,
   "metadata": {},
   "outputs": [],
   "source": [
    "def get_common_kingdom(kingdom):\n",
    "    if kingdom=='Plantae':\n",
    "        return 'plant'"
   ]
  },
  {
   "cell_type": "code",
   "execution_count": null,
   "metadata": {},
   "outputs": [],
   "source": [
    "class Question:\n",
    "    def __init__(self, question, options, correct_answer, difficulty=0):\n",
    "        self.correct_answer = correct_answer\n",
    "        self.options = options\n",
    "        self.difficulty = difficulty\n",
    "        self.question = question\n",
    "\n",
    "    def get_question(self):\n",
    "        return {\n",
    "            'question': self.question,\n",
    "            'options': self.options,\n",
    "            'correct_answer': self.correct_answer,\n",
    "            'difficulty': self.difficulty\n",
    "        }\n",
    "    def __str__(self):\n",
    "        options_str = ', '.join(self.options)\n",
    "        return (f\"Question: {self.question}\\n\"\n",
    "                f\"Options: {options_str}\\n\"\n",
    "                f\"Correct Answer: {self.correct_answer}\\n\"\n",
    "                f\"Difficulty: {self.difficulty}\\n\")\n",
    "\n",
    "class IdentificationQuestion(Question):\n",
    "    def __init__(self, question, options, correct_answer, difficulty, image_path,):\n",
    "        self.image_path = image_path\n",
    "        super().__init__(question, correct_answer, options, difficulty)\n",
    "    \n",
    "\n",
    "class ScientificNameQuestion(IdentificationQuestion):\n",
    "    def __init__(self, options, correct_answer, difficulty, image_path, kingdom):\n",
    "        self.kingdom=kingdom\n",
    "        question = f'What is the scientific name of this {get_common_kingdom(kingdom)}?'\n",
    "        super().__init__(question, image_path, correct_answer, options, difficulty)\n",
    "        \n",
    "\n",
    "\n",
    "class CommonNameQuestion(IdentificationQuestion):\n",
    "    def __init__(self, options, correct_answer, difficulty, image_path, kingdom, language):\n",
    "        self.language = language\n",
    "        self.kingdom=kingdom\n",
    "        question = f'What is the common name in {self.language} of this {get_common_kingdom(kingdom)}?'\n",
    "        super().__init__(question, image_path, correct_answer, options, difficulty)\n",
    "        \n",
    "class GenusQuestion(IdentificationQuestion):\n",
    "    def __init__(self, options, correct_answer, difficulty, image_path, kingdom):\n",
    "        self.kingdom=kingdom\n",
    "        question = f'Which genus does this {get_common_kingdom(kingdom)} belong to?'\n",
    "        super().__init__(question,image_path, correct_answer, options, difficulty)\n",
    "        \n",
    "\n",
    "\n",
    "class MajorPestQuestion(IdentificationQuestion):\n",
    "    def __init__(self, image_path, correct_answer, options, difficulty):\n",
    "        question = 'Which of the following is a major pest of this plant?'\n",
    "        super().__init__(question, image_path, correct_answer, options, difficulty)\n",
    "        \n",
    "        \n",
    "        "
   ]
  },
  {
   "cell_type": "code",
   "execution_count": 47,
   "metadata": {},
   "outputs": [],
   "source": [
    "root_dir='/workdir/important_datasets/EPPO_to_GBIF/'\n",
    "kingdom='Plantae'\n",
    "df_file_path = root_dir+f'df.{kingdom}_EPPO_to_GBIF.gzip'\n",
    "df_plants = pd.read_parquet(df_file_path, engine='pyarrow')"
   ]
  }
 ],
 "metadata": {
  "kernelspec": {
   "display_name": "base",
   "language": "python",
   "name": "python3"
  },
  "language_info": {
   "codemirror_mode": {
    "name": "ipython",
    "version": 3
   },
   "file_extension": ".py",
   "mimetype": "text/x-python",
   "name": "python",
   "nbconvert_exporter": "python",
   "pygments_lexer": "ipython3",
   "version": "3.9.19"
  }
 },
 "nbformat": 4,
 "nbformat_minor": 2
}
