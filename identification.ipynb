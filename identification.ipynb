{
 "cells": [
  {
   "cell_type": "code",
   "execution_count": 1,
   "metadata": {},
   "outputs": [],
   "source": [
    "import pandas as pd\n",
    "from tqdm import tqdm\n",
    "import requests\n",
    "import urllib\n",
    "import random\n",
    "from multiprocessing import Pool\n",
    "import matplotlib.pyplot as plt\n",
    "from collections import Counter\n",
    "import asyncio\n",
    "import aiohttp\n",
    "import urllib.parse"
   ]
  },
  {
   "cell_type": "code",
   "execution_count": 2,
   "metadata": {},
   "outputs": [],
   "source": [
    "async def get_media(usage_key,session):\n",
    "    url_media = f'https://api.gbif.org/v1/species/{usage_key}/media'\n",
    "    async with session.get(url_media) as response:\n",
    "        response_json = await response.json()\n",
    "        return response_json\n",
    "async def get_name(usage_key,session):\n",
    "    url_media = f'https://api.gbif.org/v1/species/{usage_key}/name'\n",
    "    async with session.get(url_media) as response:\n",
    "        response_json = await response.json()\n",
    "        return response_json"
   ]
  },
  {
   "cell_type": "code",
   "execution_count": 3,
   "metadata": {},
   "outputs": [],
   "source": [
    "async def print_media(usage_key):\n",
    "    async with aiohttp.ClientSession() as session:\n",
    "        media_responses = await get_media(usage_key,session)\n",
    "        name_response = await get_name(usage_key,session)\n",
    "    if not media_responses['results']:\n",
    "        print('No media for',name_response['canonicalName'])\n",
    "    for result in media_responses['results']:\n",
    "        print(name_response['canonicalName'], '->' ,result['identifier'])"
   ]
  },
  {
   "cell_type": "code",
   "execution_count": 4,
   "metadata": {},
   "outputs": [],
   "source": [
    "def sync_print(usage_key):\n",
    "    asyncio.gather(print_media(usage_key))"
   ]
  },
  {
   "cell_type": "code",
   "execution_count": 5,
   "metadata": {},
   "outputs": [
    {
     "name": "stdout",
     "output_type": "stream",
     "text": [
      "Solanum lycopersicum -> https://images.naturalis.nl/original/125876_tomaat_dsc_8045-1.jpg\n",
      "Solanum lycopersicum -> https://images.naturalis.nl/original/125880_tomaat_dsc_8253-1.jpg\n",
      "Solanum lycopersicum -> https://images.naturalis.nl/original/125879_tomaat_dsc_8051-1.jpg\n",
      "Solanum lycopersicum -> https://images.naturalis.nl/original/126328_tomaat_4.jpg\n",
      "Solanum lycopersicum -> https://images.naturalis.nl/original/126326_tomaat_5.jpg\n",
      "Solanum lycopersicum -> https://images.naturalis.nl/original/125877_tomaat_dsc_8046-1.jpg\n",
      "Solanum lycopersicum -> https://images.naturalis.nl/original/125878_tomaat_dsc_8048-1.jpg\n",
      "Solanum lycopersicum -> https://zenodo.org/record/8293824/files/figure.png\n"
     ]
    }
   ],
   "source": [
    "sync_print(2930137)"
   ]
  },
  {
   "cell_type": "markdown",
   "metadata": {},
   "source": [
    "# Templates"
   ]
  },
  {
   "cell_type": "code",
   "execution_count": 6,
   "metadata": {},
   "outputs": [],
   "source": [
    "def get_question_1(image_path, correct_answer, options):\n",
    "    question =  f'What is the scientific name of this plant?'\n",
    "    answer = f'{correct_answer}'\n",
    "    difficulty = 2\n",
    "    return {'image_path': image_path, 'question': question, 'options': options, 'correct_answer': answer, 'difficulty': difficulty}\n",
    "\n",
    "def get_question_2(image_path, correct_answer, language, options):\n",
    "    question =  f'What is the common name in {language} of this plant?'\n",
    "    answer = f'{correct_answer}'\n",
    "    difficulty = 2\n",
    "    return {'image_path': image_path, 'question': question, 'options': options, 'correct_answer': answer, 'difficulty': difficulty}\n",
    "\n",
    "def get_question(image_path, correct_answer, options, template_dict):\n",
    "    template = template_dict['template']\n",
    "    question = template.format(**template_dict.get('kwargs'))\n",
    "    difficulty = template_dict.get('difficulty', 0)\n",
    "    answer = f'{correct_answer}'\n",
    "    return {'image_path': image_path, 'question': question, 'options': options, 'correct_answer': answer, 'difficulty': difficulty}\n",
    "\n",
    "template_dict_1 = {\n",
    "    'template': 'What is the scientific name of this plant?',\n",
    "    'difficulty': 2\n",
    "}\n",
    "\n",
    "template_dict_2 = {\n",
    "    'template': 'What is the common name of this plant in {language}?',\n",
    "    'difficulty': 3,\n",
    "    'kwargs': {'language': 'English'}\n",
    "}\n",
    "\n",
    "template_dict_3 = {\n",
    "    'template': 'Which genus does this plant belong to?',\n",
    "    'difficulty': 1,\n",
    "}\n",
    "\n",
    "template_dict_4 = {\n",
    "    'template': 'Which of the following is a major pest of this plant?',\n",
    "    'difficulty': 1,\n",
    "}\n",
    "\n",
    "\n",
    "\n",
    "template_2 = 'What is the common name in {language} of this plant?'\n",
    "template_3 = 'What genus does this plant '\n",
    "    "
   ]
  }
 ],
 "metadata": {
  "kernelspec": {
   "display_name": "base",
   "language": "python",
   "name": "python3"
  },
  "language_info": {
   "codemirror_mode": {
    "name": "ipython",
    "version": 3
   },
   "file_extension": ".py",
   "mimetype": "text/x-python",
   "name": "python",
   "nbconvert_exporter": "python",
   "pygments_lexer": "ipython3",
   "version": "3.9.15"
  }
 },
 "nbformat": 4,
 "nbformat_minor": 2
}
